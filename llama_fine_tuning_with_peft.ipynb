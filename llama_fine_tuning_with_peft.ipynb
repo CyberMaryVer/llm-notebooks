{
  "cells": [
    {
      "cell_type": "markdown",
      "metadata": {
        "id": "view-in-github",
        "colab_type": "text"
      },
      "source": [
        "<a href=\"https://colab.research.google.com/github/CyberMaryVer/llm-notebooks/blob/master/llama_fine_tuning_with_peft.ipynb\" target=\"_parent\"><img src=\"https://colab.research.google.com/assets/colab-badge.svg\" alt=\"Open In Colab\"/></a>"
      ]
    },
    {
      "cell_type": "markdown",
      "source": [
        "----\n",
        "\n",
        "Note: **Use the best GPU available**\n",
        "\n",
        "(go to Runtime -> change runtime type)"
      ],
      "metadata": {
        "id": "_3jOU9CfB2o2"
      }
    },
    {
      "cell_type": "code",
      "source": [
        "! nvidia-smi"
      ],
      "metadata": {
        "id": "jxzaLvDTo8OB",
        "outputId": "84ca7b08-226f-4321-c243-2fe13787a4fb",
        "colab": {
          "base_uri": "https://localhost:8080/"
        }
      },
      "execution_count": null,
      "outputs": [
        {
          "output_type": "stream",
          "name": "stdout",
          "text": [
            "Tue Aug 15 17:55:01 2023       \n",
            "+-----------------------------------------------------------------------------+\n",
            "| NVIDIA-SMI 525.105.17   Driver Version: 525.105.17   CUDA Version: 12.0     |\n",
            "|-------------------------------+----------------------+----------------------+\n",
            "| GPU  Name        Persistence-M| Bus-Id        Disp.A | Volatile Uncorr. ECC |\n",
            "| Fan  Temp  Perf  Pwr:Usage/Cap|         Memory-Usage | GPU-Util  Compute M. |\n",
            "|                               |                      |               MIG M. |\n",
            "|===============================+======================+======================|\n",
            "|   0  Tesla T4            Off  | 00000000:00:04.0 Off |                    0 |\n",
            "| N/A   74C    P0    33W /  70W |      0MiB / 15360MiB |      0%      Default |\n",
            "|                               |                      |                  N/A |\n",
            "+-------------------------------+----------------------+----------------------+\n",
            "                                                                               \n",
            "+-----------------------------------------------------------------------------+\n",
            "| Processes:                                                                  |\n",
            "|  GPU   GI   CI        PID   Type   Process name                  GPU Memory |\n",
            "|        ID   ID                                                   Usage      |\n",
            "|=============================================================================|\n",
            "|  No running processes found                                                 |\n",
            "+-----------------------------------------------------------------------------+\n"
          ]
        }
      ]
    },
    {
      "cell_type": "markdown",
      "source": [
        "<h1><strong> Fine-tuning of LLaMA 2 with PEFT </strong></h1>\n",
        "\n",
        "▶️ Sources: [Fine-Tuning](https://mlabonne.github.io/blog/posts/Fine_Tune_Your_Own_Llama_2_Model_in_a_Colab_Notebook.html),\n",
        "[Dataset](https://github.com/mshumer/gpt-llm-trainer)\n",
        "\n",
        "▶️ Author: [Maria Startseva](https://www.linkedin.com/in/maria-startseva/)\n",
        "\n",
        "----\n",
        "\n",
        "The main idea behind prompt tuning, and parameter-efficient finetuning methods in general, is to add a small number of new parameters to a pretrained LLM and only finetune the newly added parameters to make the LLM perform better on (a) a target dataset (for example, a domain-specific dataset like medical or legal documents) and (b) a target task (for example, sentiment classification).\n",
        "\n",
        "<img src=\"https://substackcdn.com/image/fetch/w_1456,c_limit,f_webp,q_auto:good,fl_progressive:steep/https%3A%2F%2Fsubstack-post-media.s3.amazonaws.com%2Fpublic%2Fimages%2Fd9c855ba-814f-4f95-9b1b-c97a46eb2f42_1646x880.png\" width=\"900\">\n",
        "\n"
      ],
      "metadata": {
        "id": "wM8MRkf8Dr94"
      }
    },
    {
      "cell_type": "markdown",
      "source": [
        "<h1><strong> Content: </strong></h1>"
      ],
      "metadata": {
        "id": "oC7W3MGBBpfM"
      }
    },
    {
      "cell_type": "markdown",
      "source": [
        ">[⚗️ Install necessary libraries](#scrollTo=AbrFgrhG_xYi)\n",
        "\n",
        ">[📅 Data generation](#scrollTo=Way3_PuPpIuE)\n",
        "\n",
        ">[💫 Fine-Tuning](#scrollTo=moVo0led-6tu)\n",
        "\n",
        ">[🏃 Run Inference](#scrollTo=F6fux9om_c4-)\n",
        "\n",
        ">[🫙Merge & store the model](#scrollTo=Ko6UkINu_qSx)\n",
        "\n",
        ">[⭐ Load a fine-tuned model from Drive and run inference *](#scrollTo=do-dFdE5zWGO)\n",
        "\n"
      ],
      "metadata": {
        "colab_type": "toc",
        "id": "AAT9xsDM1dEZ"
      }
    },
    {
      "cell_type": "markdown",
      "source": [
        "# ⚗️ **Install necessary libraries**"
      ],
      "metadata": {
        "id": "AbrFgrhG_xYi"
      }
    },
    {
      "cell_type": "code",
      "source": [
        "#@markdown ☑️ Install necessary libraries\n",
        "from IPython.display import clear_output\n",
        "import ipywidgets as widgets\n",
        "import os\n",
        "\n",
        "def inf(msg, style, wdth):\n",
        "    inf = widgets.Button(description=msg,\n",
        "                         disabled=True,\n",
        "                         button_style=style,\n",
        "                         layout=widgets.Layout(min_width=wdth))\n",
        "    display(inf)\n",
        "\n",
        "! pip install -q accelerate==0.21.0 peft==0.4.0 bitsandbytes==0.40.2 transformers==4.31.0 trl==0.4.7\n",
        "! pip install -q openai\n",
        "! pip install -q backoff\n",
        "\n",
        "import torch\n",
        "from datasets import load_dataset\n",
        "from transformers import (\n",
        "    AutoModelForCausalLM,\n",
        "    AutoTokenizer,\n",
        "    BitsAndBytesConfig,\n",
        "    HfArgumentParser,\n",
        "    TrainingArguments,\n",
        "    pipeline,\n",
        "    logging,\n",
        ")\n",
        "from peft import LoraConfig, PeftModel\n",
        "from trl import SFTTrainer\n",
        "\n",
        "import backoff\n",
        "import openai\n",
        "from tenacity import (\n",
        "    retry,\n",
        "    stop_after_attempt,\n",
        "    wait_random_exponential,\n",
        "    retry_if_exception_type\n",
        ")  # for exponential backoff\n",
        "\n",
        "@retry(\n",
        "    retry=retry_if_exception_type((openai.error.APIError, openai.error.APIConnectionError, openai.error.RateLimitError, openai.error.ServiceUnavailableError, openai.error.Timeout)),\n",
        "    wait=wait_random_exponential(multiplier=1, max=60),\n",
        "    stop=stop_after_attempt(10)\n",
        ")\n",
        "def completions_with_backoff(**kwargs):\n",
        "    return openai.ChatCompletion.create(**kwargs)\n",
        "\n",
        "clear_output()\n",
        "inf('\\u2714 Done','success', '50px')"
      ],
      "metadata": {
        "colab": {
          "base_uri": "https://localhost:8080/",
          "height": 49,
          "referenced_widgets": [
            "252b070b87a3445c8947fd11a6ecc2be",
            "04d79404965046ada63dab1607677986",
            "8bb83e986b4e45e78baba470c7d409a7"
          ]
        },
        "cellView": "form",
        "id": "h-C6Y12ez79y",
        "outputId": "ad0d1bcd-0e8f-4233-da14-4f9a6ceec5a7"
      },
      "execution_count": null,
      "outputs": [
        {
          "output_type": "display_data",
          "data": {
            "text/plain": [
              "Button(button_style='success', description='✔ Done', disabled=True, layout=Layout(min_width='50px'), style=But…"
            ],
            "application/vnd.jupyter.widget-view+json": {
              "version_major": 2,
              "version_minor": 0,
              "model_id": "252b070b87a3445c8947fd11a6ecc2be"
            }
          },
          "metadata": {}
        }
      ]
    },
    {
      "cell_type": "markdown",
      "source": [
        "# 📅 **Data generation**"
      ],
      "metadata": {
        "id": "Way3_PuPpIuE"
      }
    },
    {
      "cell_type": "markdown",
      "source": [
        "<h2>🔑 Secret key </h2>"
      ],
      "metadata": {
        "id": "Wcc_VGlE3iKF"
      }
    },
    {
      "cell_type": "code",
      "source": [
        "#@markdown ☑️ Enter OpenAI Key\n",
        "from getpass import getpass\n",
        "secret = getpass('Enter the secret value: ')\n",
        "clear_output()\n",
        "inf('\\u2714 Done','success', '50px')"
      ],
      "metadata": {
        "colab": {
          "base_uri": "https://localhost:8080/",
          "height": 49,
          "referenced_widgets": [
            "13a9e3dce82742a3a2da28093f641089",
            "8d69dd8a858e4a82a0035e76045d016a",
            "9b2f1e6d80c94217ab903a729522d8d9"
          ]
        },
        "id": "yFZd3xRUdt5Y",
        "outputId": "2140ce0b-9260-488f-9b54-6360ddf682fe",
        "cellView": "form"
      },
      "execution_count": null,
      "outputs": [
        {
          "output_type": "display_data",
          "data": {
            "text/plain": [
              "Button(button_style='success', description='✔ Done', disabled=True, layout=Layout(min_width='50px'), style=But…"
            ],
            "application/vnd.jupyter.widget-view+json": {
              "version_major": 2,
              "version_minor": 0,
              "model_id": "13a9e3dce82742a3a2da28093f641089"
            }
          },
          "metadata": {}
        }
      ]
    },
    {
      "cell_type": "markdown",
      "source": [
        "1. Write your prompt here. Make it as descriptive as possible!\n",
        "\n",
        "2. Choose the temperature (between 0 and 1) to use when generating data. Lower values are great for precise tasks, like writing code, whereas larger values are better for creative tasks, like writing stories.\n",
        "\n",
        "3. Choose how many examples you want to generate. The more you generate, a) the longer it takes and b) the more expensive data generation will be. But generally, more examples will lead to a higher-quality model. 100 is usually the minimum to start."
      ],
      "metadata": {
        "id": "lY-3DvlIpVSl"
      }
    },
    {
      "cell_type": "code",
      "source": [
        "prompt = \"A model that takes in a list of words in English and returns only a sentence with all these words included.\"\n",
        "example_input = [\"left\", \"rock\", \"play\"]\n",
        "temperature = .4\n",
        "number_of_examples = 100"
      ],
      "metadata": {
        "id": "R7WKZyxtpUPS"
      },
      "execution_count": null,
      "outputs": []
    },
    {
      "cell_type": "markdown",
      "source": [
        "Define the wrapper prompt for your prompt here"
      ],
      "metadata": {
        "id": "yk-mpd5ExGv1"
      }
    },
    {
      "cell_type": "code",
      "source": [
        "%%writefile prompt.txt\n",
        "You are generating data which will be used to train a machine learning model.\n",
        "\n",
        "You will be given a high-level description of the model we want to train, and from that, you will generate data samples, each with a prompt/response pair.\n",
        "\n",
        "You will do so in this format:\n",
        "```\n",
        "prompt\n",
        "-----------\n",
        "$prompt_goes_here\n",
        "-----------\n",
        "\n",
        "response\n",
        "-----------\n",
        "$response_goes_here\n",
        "-----------\n",
        "```\n",
        "\n",
        "Only one prompt/response pair should be generated per turn.\n",
        "\n",
        "For each turn, make the example slightly more complex than the last, while ensuring diversity.\n",
        "\n",
        "Make sure your samples are unique and diverse, yet high-quality and complex enough to train a well-performing model.\n",
        "\n",
        "Make sure to return only prompt response without any additional comments, notes ot text.\n",
        "\n",
        "Here is the type of model we want to train:\n"
      ],
      "metadata": {
        "colab": {
          "base_uri": "https://localhost:8080/"
        },
        "id": "BNjFxSFKF7ns",
        "outputId": "33ddcc18-cab9-4e06-f7f8-1325164f06cb"
      },
      "execution_count": null,
      "outputs": [
        {
          "output_type": "stream",
          "name": "stdout",
          "text": [
            "Overwriting prompt.txt\n"
          ]
        }
      ]
    },
    {
      "cell_type": "markdown",
      "source": [
        "Run this to generate the dataset."
      ],
      "metadata": {
        "id": "1snNou5PrIci"
      }
    },
    {
      "cell_type": "code",
      "source": [
        "import os\n",
        "import openai\n",
        "import random\n",
        "\n",
        "openai.api_key = secret\n",
        "DEBUG = False\n",
        "\n",
        "with open(\"prompt.txt\", \"r\") as f:\n",
        "    prompt_string = f.read()\n",
        "\n",
        "def generate_example(prompt, prev_examples, temperature=.5):\n",
        "    messages=[\n",
        "        {\n",
        "            \"role\": \"system\",\n",
        "            \"content\": f\"{prompt_string}`{prompt}`\"\n",
        "        }\n",
        "    ]\n",
        "\n",
        "    if len(prev_examples) > 0:\n",
        "        if len(prev_examples) > 10:\n",
        "            prev_examples = random.sample(prev_examples, 10)\n",
        "        for example in prev_examples:\n",
        "            messages.append({\n",
        "                \"role\": \"assistant\",\n",
        "                \"content\": example\n",
        "            })\n",
        "\n",
        "    response = completions_with_backoff(\n",
        "        model=\"gpt-3.5-turbo\",\n",
        "        messages=messages,\n",
        "        temperature=temperature,\n",
        "        max_tokens=1354,\n",
        "    )\n",
        "\n",
        "    return response.choices[0].message['content']\n",
        "\n",
        "# Generate examples\n",
        "prev_examples = []\n",
        "for i in range(number_of_examples):\n",
        "    print(f'Generating example {i}')\n",
        "    example = generate_example(prompt, prev_examples, temperature)\n",
        "    prev_examples.append(example)\n",
        "\n",
        "    ### DEBUG ###\n",
        "    if i == 10 and DEBUG:\n",
        "        break\n",
        "\n",
        "clear_output()\n",
        "inf('\\u2714 Done','success', '50px')\n",
        "prev_examples"
      ],
      "metadata": {
        "id": "Rdsd82ngpHCG",
        "outputId": "5dbaab60-96bd-414e-93df-89bd519bf32b",
        "colab": {
          "base_uri": "https://localhost:8080/",
          "height": 1000,
          "referenced_widgets": [
            "ea4e7736ec2645b7adee38bea6f4a08d",
            "bca8aa5f698947d085280db568d11e29",
            "7f4f8705d4fa4175bb51c9e224478410"
          ]
        }
      },
      "execution_count": null,
      "outputs": [
        {
          "output_type": "display_data",
          "data": {
            "text/plain": [
              "Button(button_style='success', description='✔ Done', disabled=True, layout=Layout(min_width='50px'), style=But…"
            ],
            "application/vnd.jupyter.widget-view+json": {
              "version_major": 2,
              "version_minor": 0,
              "model_id": "ea4e7736ec2645b7adee38bea6f4a08d"
            }
          },
          "metadata": {}
        },
        {
          "output_type": "execute_result",
          "data": {
            "text/plain": [
              "['prompt\\n-----------\\nGive me a sentence with the word \"cat\".\\n-----------\\n\\nresponse\\n-----------\\nI have a pet cat named Whiskers.\\n-----------',\n",
              " 'prompt\\n-----------\\nPlease provide a sentence that includes the words \"cat\" and \"dog\".\\n-----------\\n\\nresponse\\n-----------\\nThe cat and the dog are playing in the backyard.\\n-----------',\n",
              " 'prompt\\n-----------\\nCan you create a sentence that contains the words \"cat\", \"dog\", and \"bird\"?\\n-----------\\n\\nresponse\\n-----------\\nThe cat chased the dog while the bird watched from the tree.\\n-----------',\n",
              " 'prompt\\n-----------\\nI need a sentence that includes the words \"cat\", \"dog\", \"bird\", and \"fish\".\\n-----------\\n\\nresponse\\n-----------\\nThe cat and the dog were chasing each other, while the bird flew overhead and the fish swam in the pond.\\n-----------',\n",
              " 'prompt\\n-----------\\nCould you give me a sentence that includes the words \"cat\", \"dog\", \"bird\", \"fish\", and \"rabbit\"?\\n-----------\\n\\nresponse\\n-----------\\nThe cat and the dog were playing in the garden, while the bird sang from the tree, the fish swam in the pond, and the rabbit hopped around.',\n",
              " 'prompt\\n-----------\\nPlease provide a sentence that contains the words \"cat\", \"dog\", \"bird\", \"fish\", \"rabbit\", and \"turtle\".\\n-----------\\n\\nresponse\\n-----------\\nThe cat and the dog were chasing each other, while the bird sang from the tree, the fish swam in the pond, the rabbit hopped around, and the turtle sunbathed on a rock.',\n",
              " 'prompt\\n-----------\\nCan you create a sentence that includes the words \"cat\", \"dog\", \"bird\", \"fish\", \"rabbit\", \"turtle\", and \"hamster\"?\\n-----------\\n\\nresponse\\n-----------\\nThe cat and the dog were playing in the garden, while the bird sang from the tree, the fish swam in the pond, the rabbit hopped around, the turtle sunbathed on a rock, and the hamster ran on its wheel.',\n",
              " 'prompt\\n-----------\\nI need a sentence that includes the words \"cat\", \"dog\", \"bird\", \"fish\", \"rabbit\", \"turtle\", \"hamster\", and \"snake\".\\n-----------\\n\\nresponse\\n-----------\\nThe cat and the dog were chasing each other, while the bird sang from the tree, the fish swam in the pond, the rabbit hopped around, the turtle sunbathed on a rock, the hamster ran on its wheel, and the snake slithered through the grass.',\n",
              " 'prompt\\n-----------\\nPlease provide a sentence that contains the words \"cat\", \"dog\", \"bird\", \"fish\", \"rabbit\", \"turtle\", \"hamster\", \"snake\", and \"lizard\".\\n-----------\\n\\nresponse\\n-----------\\nThe cat and the dog were playing in the garden, while the bird sang from the tree, the fish swam in the pond, the rabbit hopped around, the turtle sunbathed on a rock, the hamster ran on its wheel, the snake slithered through the grass, and the lizard basked in the sun.',\n",
              " 'prompt\\n-----------\\nCan you create a sentence that includes the words \"cat\", \"dog\", \"bird\", \"fish\", \"rabbit\", \"turtle\", \"hamster\", \"snake\", \"lizard\", and \"monkey\"?\\n-----------\\n\\nresponse\\n-----------\\nThe cat and the dog were chasing each other, while the bird sang from the tree, the fish swam in the pond, the rabbit hopped around, the turtle sunbathed on a rock, the hamster ran on its wheel, the snake slithered through the grass, the lizard basked in the sun, and the monkey swung from the branches.',\n",
              " 'prompt\\n-----------\\nI need a sentence that includes the words \"cat\", \"dog\", \"bird\", \"fish\", \"rabbit\", \"turtle\", \"hamster\", \"snake\", \"lizard\", \"monkey\", and \"elephant\".\\n-----------\\n\\nresponse\\n-----------\\nThe cat and the dog were playing in the garden, while the bird sang from the tree, the fish swam in the pond, the rabbit hopped around, the turtle sunbathed on a rock, the hamster ran on its wheel, the snake slithered through the grass, the lizard basked in the sun, the monkey swung from the branches, and the elephant trumpeted in the distance.',\n",
              " 'prompt\\n-----------\\nCan you create a sentence that contains the words \"cat\", \"dog\", and \"bird\"?\\n-----------\\n\\nresponse\\n-----------\\nThe cat chased the dog while the bird watched from the tree.\\n-----------',\n",
              " 'prompt\\n-----------\\nPlease provide a sentence that contains the words \"cat\", \"dog\", \"bird\", and \"fish\".\\n-----------\\n\\nresponse\\n-----------\\nThe cat and the dog were playing in the garden, while the bird sang from the tree, and the fish swam in the pond.',\n",
              " 'prompt\\n-----------\\nCan you create a sentence that includes the words \"cat\" and \"dog\"?\\n-----------\\n\\nresponse\\n-----------\\nThe cat and the dog are best friends and always play together.',\n",
              " 'prompt\\n-----------\\nCan you create a sentence that includes the words \"cat\" and \"dog\"?\\n-----------\\n\\nresponse\\n-----------\\nThe cat and the dog are best friends and always play together.',\n",
              " 'prompt\\n-----------\\nPlease provide a sentence that includes the words \"cat\", \"dog\", \"bird\", and \"fish\".\\n-----------\\n\\nresponse\\n-----------\\nThe cat and the dog were playing in the garden, while the bird sang from the tree, and the fish swam in the pond.',\n",
              " 'prompt\\n-----------\\nPlease provide a sentence that includes the words \"cat\", \"dog\", \"bird\", and \"fish\".\\n-----------\\n\\nresponse\\n-----------\\nThe cat and the dog were playing in the garden, while the bird sang from the tree, and the fish swam in the pond.',\n",
              " 'prompt\\n-----------\\nPlease provide a sentence that contains the words \"cat\", \"dog\", \"bird\", and \"fish\".\\n-----------\\n\\nresponse\\n-----------\\nThe cat and the dog were playing in the garden, while the bird sang from the tree, and the fish swam in the pond.',\n",
              " 'prompt\\n-----------\\nPlease create a sentence that includes the words \"cat\" and \"dog\".\\n-----------\\n\\nresponse\\n-----------\\nThe cat and the dog are best friends and always play together.',\n",
              " 'prompt\\n-----------\\nCan you create a sentence that includes the words \"cat\" and \"dog\"?\\n-----------\\n\\nresponse\\n-----------\\nThe cat and the dog are best friends and always play together.',\n",
              " 'prompt\\n-----------\\nPlease create a sentence that includes the words \"cat\" and \"dog\".\\n-----------\\n\\nresponse\\n-----------\\nThe cat and the dog are best friends and always play together.',\n",
              " 'prompt\\n-----------\\nGive me a sentence with the word \"cat\".\\n-----------\\n\\nresponse\\n-----------\\nI have a pet cat named Whiskers.',\n",
              " 'prompt\\n-----------\\nPlease provide a sentence that contains the words \"cat\", \"dog\", \"bird\", \"fish\", \"rabbit\", \"turtle\", \"hamster\", and \"snake\".\\n-----------\\n\\nresponse\\n-----------\\nThe cat and the dog were playing in the garden, while the bird sang from the tree, the fish swam in the pond, the rabbit hopped around, the turtle sunbathed on a rock, the hamster ran on its wheel, and the snake slithered through the grass.',\n",
              " 'prompt\\n-----------\\nI need a sentence that includes the words \"cat\", \"dog\", \"bird\", \"fish\", \"rabbit\", \"turtle\", \"hamster\", \"snake\", \"lizard\", \"monkey\", and \"elephant\".\\n-----------\\n\\nresponse\\n-----------\\nThe cat and the dog were playing in the garden, while the bird sang from the tree, the fish swam in the pond, the rabbit hopped around, the turtle sunbathed on a rock, the hamster ran on its wheel, the snake slithered through the grass, the lizard basked in the sun, the monkey swung from the branches, and the elephant trumpeted in the distance.',\n",
              " 'prompt\\n-----------\\nI need a sentence that includes the words \"cat\" and \"dog\".\\n-----------\\n\\nresponse\\n-----------\\nThe cat and the dog are best friends and always play together.',\n",
              " 'prompt\\n-----------\\nPlease provide a sentence that contains the words \"cat\", \"dog\", \"bird\", \"fish\", \"rabbit\", and \"turtle\".\\n-----------\\n\\nresponse\\n-----------\\nThe cat and the dog were chasing each other, while the bird sang from the tree, the fish swam in the pond, the rabbit hopped around, and the turtle sunbathed on a rock.',\n",
              " 'prompt\\n-----------\\nGive me a sentence with the word \"cat\".\\n-----------\\n\\nresponse\\n-----------\\nI have a pet cat named Whiskers.\\n-----------',\n",
              " 'prompt\\n-----------\\nPlease create a sentence that includes the words \"cat\" and \"dog\".\\n-----------\\n\\nresponse\\n-----------\\nThe cat and the dog are best friends and always play together.',\n",
              " 'prompt\\n-----------\\nGive me a sentence with the word \"cat\".\\n-----------\\n\\nresponse\\n-----------\\nI have a pet cat named Whiskers.',\n",
              " 'prompt\\n-----------\\nCan you create a sentence that includes the words \"cat\" and \"dog\"?\\n-----------\\n\\nresponse\\n-----------\\nThe cat and the dog are playing in the park.',\n",
              " 'prompt\\n-----------\\nPlease create a sentence that includes the words \"cat\" and \"dog\".\\n-----------\\n\\nresponse\\n-----------\\nThe cat and the dog are best friends and always play together.',\n",
              " 'prompt\\n-----------\\nPlease provide a sentence that contains the words \"cat\", \"dog\", \"bird\", \"fish\", \"rabbit\", \"turtle\", \"hamster\", \"snake\", \"lizard\", \"monkey\", \"elephant\", and \"giraffe\".\\n-----------\\n\\nresponse\\n-----------\\nThe cat and the dog were playing in the garden, while the bird sang from the tree, the fish swam in the pond, the rabbit hopped around, the turtle sunbathed on a rock, the hamster ran on its wheel, the snake slithered through the grass, the lizard basked in the sun, the monkey swung from the branches, the elephant trumpeted in the distance, and the giraffe grazed on the leaves.',\n",
              " 'prompt\\n-----------\\nPlease provide a sentence that contains the words \"cat\", \"dog\", \"bird\", \"fish\", \"rabbit\", \"turtle\", \"hamster\", \"snake\", and \"lizard\".\\n-----------\\n\\nresponse\\n-----------\\nThe cat and the dog were playing in the garden, while the bird sang from the tree, the fish swam in the pond, the rabbit hopped around, the turtle sunbathed on a rock, the hamster ran on its wheel, the snake slithered through the grass, and the lizard basked in the sun.',\n",
              " 'prompt\\n-----------\\nPlease create a sentence that includes the words \"cat\" and \"dog\".\\n-----------\\n\\nresponse\\n-----------\\nThe cat and the dog are best friends and always play together.',\n",
              " 'prompt\\n-----------\\nGive me a sentence that includes the words \"cat\" and \"dog\".\\n-----------\\n\\nresponse\\n-----------\\nThe cat and the dog are best friends and always play together.',\n",
              " 'prompt\\n-----------\\nCould you give me a sentence that includes the words \"cat\", \"dog\", \"bird\", \"fish\", and \"rabbit\"?\\n-----------\\n\\nresponse\\n-----------\\nThe cat and the dog were playing in the garden, while the bird sang from the tree, the fish swam in the pond, and the rabbit hopped around.',\n",
              " 'prompt\\n-----------\\nCan you create a sentence that contains the words \"cat\", \"dog\", \"bird\", and \"fish\"?\\n-----------\\n\\nresponse\\n-----------\\nThe cat and the dog were playing in the garden, while the bird sang from the tree and the fish swam in the pond.',\n",
              " 'prompt\\n-----------\\nCan you create a sentence that includes the words \"cat\" and \"dog\"?\\n-----------\\n\\nresponse\\n-----------\\nThe cat and the dog are playing in the park.',\n",
              " 'prompt\\n-----------\\nPlease provide a sentence that contains the words \"cat\", \"dog\", \"bird\", \"fish\", \"rabbit\", \"turtle\", \"hamster\", and \"snake\".\\n-----------\\n\\nresponse\\n-----------\\nThe cat and the dog were playing in the garden, while the bird sang from the tree, the fish swam in the pond, the rabbit hopped around, the turtle sunbathed on a rock, the hamster ran on its wheel, and the snake slithered through the grass.',\n",
              " 'prompt\\n-----------\\nCan you create a sentence that contains the words \"cat\", \"dog\", \"bird\", and \"fish\"?\\n-----------\\n\\nresponse\\n-----------\\nThe cat and the dog were playing in the garden, while the bird sang from the tree and the fish swam in the pond.',\n",
              " 'prompt\\n-----------\\nPlease create a sentence that includes the words \"cat\" and \"dog\".\\n-----------\\n\\nresponse\\n-----------\\nI have a pet cat named Whiskers and a dog named Max.',\n",
              " 'prompt\\n-----------\\nCan you create a sentence that includes the words \"cat\" and \"dog\"?\\n-----------\\n\\nresponse\\n-----------\\nThe cat and the dog are best friends and always play together.',\n",
              " 'prompt\\n-----------\\nPlease create a sentence that includes the words \"cat\" and \"dog\".\\n-----------\\n\\nresponse\\n-----------\\nI have a pet cat named Whiskers and a dog named Max.',\n",
              " 'prompt\\n-----------\\nPlease provide a sentence that includes the words \"cat\", \"dog\", and \"bird\".\\n-----------\\n\\nresponse\\n-----------\\nThe cat and the dog were playing in the garden, while the bird sang from the tree.',\n",
              " 'prompt\\n-----------\\nPlease create a sentence that includes the words \"cat\" and \"dog\".\\n-----------\\n\\nresponse\\n-----------\\nI have a pet cat and a dog at home.',\n",
              " 'prompt\\n-----------\\nPlease provide a sentence that contains the words \"cat\", \"dog\", \"bird\", \"fish\", and \"rabbit\".\\n-----------\\n\\nresponse\\n-----------\\nThe cat and the dog were playing in the garden, while the bird sang from the tree, the fish swam in the pond, and the rabbit hopped around.',\n",
              " 'prompt\\n-----------\\nPlease create a sentence that includes the words \"cat\", \"dog\", and \"bird\".\\n-----------\\n\\nresponse\\n-----------\\nThe cat and the dog were playing in the garden, while the bird sang from the tree.',\n",
              " 'prompt\\n-----------\\nPlease create a sentence that includes the words \"cat\" and \"dog\".\\n-----------\\n\\nresponse\\n-----------\\nThe cat and the dog are best friends and always play together.',\n",
              " 'prompt\\n-----------\\nPlease create a sentence that includes the words \"cat\" and \"dog\".\\n-----------\\n\\nresponse\\n-----------\\nThe cat and the dog are best friends and always play together.',\n",
              " 'prompt\\n-----------\\nPlease create a sentence that includes the words \"cat\", \"dog\", \"bird\", \"fish\", \"rabbit\", and \"turtle\".\\n-----------\\n\\nresponse\\n-----------\\nThe cat and the dog were chasing each other, while the bird sang from the tree, the fish swam in the pond, the rabbit hopped around, and the turtle sunbathed on a rock.',\n",
              " 'prompt\\n-----------\\nPlease provide a sentence that includes the words \"cat\" and \"dog\".\\n-----------\\n\\nresponse\\n-----------\\nThe cat and the dog are playing in the backyard.',\n",
              " 'prompt\\n-----------\\nCould you give me a sentence that includes the words \"cat\", \"dog\", \"bird\", \"fish\", and \"rabbit\"?\\n-----------\\n\\nresponse\\n-----------\\nThe cat and the dog were playing in the garden, while the bird sang from the tree, the fish swam in the pond, and the rabbit hopped around.',\n",
              " 'prompt\\n-----------\\nPlease create a sentence that includes the words \"cat\" and \"dog\".\\n-----------\\n\\nresponse\\n-----------\\nThe cat and the dog are best friends and always play together.',\n",
              " 'prompt\\n-----------\\nPlease create a sentence that includes the words \"cat\" and \"dog\".\\n-----------\\n\\nresponse\\n-----------\\nI have a pet cat named Whiskers and a dog named Max.',\n",
              " 'prompt\\n-----------\\nPlease create a sentence that includes the words \"cat\" and \"dog\".\\n-----------\\n\\nresponse\\n-----------\\nThe cat and the dog are best friends and always play together.',\n",
              " 'prompt\\n-----------\\nPlease create a sentence that includes the words \"cat\" and \"dog\".\\n-----------\\n\\nresponse\\n-----------\\nThe cat and the dog are best friends and always play together.',\n",
              " 'prompt\\n-----------\\nPlease provide a sentence that contains the words \"cat\", \"dog\", \"bird\", \"fish\", \"rabbit\", \"turtle\", \"hamster\", \"snake\", and \"lizard\".\\n-----------\\n\\nresponse\\n-----------\\nThe cat and the dog were playing in the garden, while the bird sang from the tree, the fish swam in the pond, the rabbit hopped around, the turtle sunbathed on a rock, the hamster ran on its wheel, the snake slithered through the grass, and the lizard basked in the sun.',\n",
              " 'prompt\\n-----------\\nPlease create a sentence that includes the words \"cat\", \"dog\", \"bird\", \"fish\", \"rabbit\", \"turtle\", \"hamster\", \"snake\", and \"lizard\".\\n-----------\\n\\nresponse\\n-----------\\nThe cat and the dog were playing in the garden, while the bird sang from the tree, the fish swam in the pond, the rabbit hopped around, the turtle sunbathed on a rock, the hamster ran on its wheel, the snake slithered through the grass, and the lizard basked in the sun.',\n",
              " 'prompt\\n-----------\\nPlease provide a sentence that contains the words \"cat\" and \"dog\".\\n-----------\\n\\nresponse\\n-----------\\nThe cat and the dog are best friends and always play together.',\n",
              " 'prompt\\n-----------\\nCan you create a sentence that includes the words \"cat\" and \"dog\"?\\n-----------\\n\\nresponse\\n-----------\\nThe cat and the dog are best friends and always play together.',\n",
              " 'prompt\\n-----------\\nPlease provide a sentence that includes the words \"cat\", \"dog\", \"bird\", and \"fish\".\\n-----------\\n\\nresponse\\n-----------\\nThe cat and the dog were playing in the garden, while the bird sang from the tree, and the fish swam in the pond.',\n",
              " 'prompt\\n-----------\\nPlease create a sentence that includes the words \"cat\" and \"dog\".\\n-----------\\n\\nresponse\\n-----------\\nThe cat and the dog are best friends and always play together.',\n",
              " 'prompt\\n-----------\\nPlease create a sentence that includes the words \"cat\" and \"dog\".\\n-----------\\n\\nresponse\\n-----------\\nThe cat and the dog are playing together in the backyard.',\n",
              " 'prompt\\n-----------\\nCould you give me a sentence that includes the words \"cat\", \"dog\", \"bird\", and \"fish\"?\\n-----------\\n\\nresponse\\n-----------\\nThe cat and the dog were playing in the garden, while the bird sang from the tree, and the fish swam in the pond.',\n",
              " 'prompt\\n-----------\\nPlease create a sentence that includes the words \"cat\" and \"dog\".\\n-----------\\n\\nresponse\\n-----------\\nThe cat and the dog are best friends and always play together.',\n",
              " 'prompt\\n-----------\\nPlease create a sentence that includes the words \"cat\" and \"dog\".\\n-----------\\n\\nresponse\\n-----------\\nThe cat and the dog are playing in the park.',\n",
              " 'prompt\\n-----------\\nPlease create a sentence that includes the words \"cat\" and \"dog\".\\n-----------\\n\\nresponse\\n-----------\\nI have a pet cat named Whiskers and a dog named Max.',\n",
              " 'prompt\\n-----------\\nPlease create a sentence that includes the words \"cat\" and \"dog\".\\n-----------\\n\\nresponse\\n-----------\\nThe cat and the dog are best friends and always play together.',\n",
              " 'prompt\\n-----------\\nPlease create a sentence that includes the words \"cat\" and \"dog\".\\n-----------\\n\\nresponse\\n-----------\\nI have a pet cat named Whiskers and a dog named Max.',\n",
              " 'prompt\\n-----------\\nPlease create a sentence that includes the words \"cat\", \"dog\", and \"bird\".\\n-----------\\n\\nresponse\\n-----------\\nThe cat and the dog were playing in the garden, while the bird sang from the tree.',\n",
              " 'prompt\\n-----------\\nPlease create a sentence that includes the words \"cat\" and \"dog\".\\n-----------\\n\\nresponse\\n-----------\\nThe cat and the dog are playing together in the backyard.',\n",
              " 'prompt\\n-----------\\nPlease create a sentence that includes the words \"cat\" and \"dog\".\\n-----------\\n\\nresponse\\n-----------\\nI have a pet cat named Whiskers and a dog named Max.',\n",
              " 'prompt\\n-----------\\nPlease provide a sentence that contains the words \"cat\", \"dog\", \"bird\", \"fish\", \"rabbit\", \"turtle\", \"hamster\", \"snake\", \"lizard\", and \"guinea pig\".\\n-----------\\n\\nresponse\\n-----------\\nThe cat and the dog were playing in the garden, while the bird sang from the tree, the fish swam in the pond, the rabbit hopped around, the turtle sunbathed on a rock, the hamster ran on its wheel, the snake slithered through the grass, the lizard basked in the sun, and the guinea pig squeaked in its cage.',\n",
              " 'prompt\\n-----------\\nPlease provide a sentence that contains the words \"cat\", \"dog\", \"bird\", \"fish\", \"rabbit\", and \"turtle\".\\n-----------\\n\\nresponse\\n-----------\\nThe cat and the dog were playing together, while the bird sang from the tree, the fish swam in the pond, the rabbit hopped around, and the turtle sunbathed on a rock.',\n",
              " 'prompt\\n-----------\\nPlease create a sentence that includes the words \"cat\" and \"dog\".\\n-----------\\n\\nresponse\\n-----------\\nI have a pet cat named Whiskers and a dog named Max.',\n",
              " 'prompt\\n-----------\\nPlease provide a sentence that contains the words \"cat\" and \"dog\".\\n-----------\\n\\nresponse\\n-----------\\nI have a pet cat and a dog at home.',\n",
              " 'prompt\\n-----------\\nPlease create a sentence that includes the words \"cat\" and \"dog\".\\n-----------\\n\\nresponse\\n-----------\\nThe cat and the dog are playing together in the backyard.',\n",
              " 'prompt\\n-----------\\nPlease create a sentence that includes the words \"cat\" and \"dog\".\\n-----------\\n\\nresponse\\n-----------\\nThe cat and the dog are playing together in the backyard.',\n",
              " 'prompt\\n-----------\\nCan you create a sentence that includes the words \"cat\", \"dog\", \"bird\", and \"fish\"?\\n-----------\\n\\nresponse\\n-----------\\nThe cat and the dog were playing in the garden, while the bird sang from the tree and the fish swam in the pond.',\n",
              " 'prompt\\n-----------\\nPlease create a sentence that includes the words \"cat\" and \"dog\".\\n-----------\\n\\nresponse\\n-----------\\nI have a cat and a dog as pets.',\n",
              " 'prompt\\n-----------\\nCan you create a sentence that includes the words \"cat\" and \"dog\"?\\n-----------\\n\\nresponse\\n-----------\\nThe cat and the dog are playing in the park.',\n",
              " 'prompt\\n-----------\\nPlease provide a sentence that includes the words \"cat\", \"dog\", \"bird\", \"fish\", \"rabbit\", \"turtle\", \"hamster\", \"snake\", \"lizard\", \"monkey\", and \"elephant\".\\n-----------\\n\\nresponse\\n-----------\\nThe cat and the dog were playing in the garden, while the bird sang from the tree, the fish swam in the pond, the rabbit hopped around, the turtle sunbathed on a rock, the hamster ran on its wheel, the snake slithered through the grass, the lizard basked in the sun, the monkey swung from the branches, and the elephant trumpeted in the distance.',\n",
              " 'prompt\\n-----------\\nPlease create a sentence that includes the words \"cat\" and \"dog\".\\n-----------\\n\\nresponse\\n-----------\\nI have a pet cat named Whiskers and a dog named Max.',\n",
              " 'prompt\\n-----------\\nCan you create a sentence that includes the words \"cat\", \"dog\", \"bird\", and \"fish\"?\\n-----------\\n\\nresponse\\n-----------\\nThe cat and the dog were playing in the garden, while the bird sang from the tree and the fish swam in the pond.',\n",
              " 'prompt\\n-----------\\nPlease create a sentence that includes the words \"cat\" and \"dog\".\\n-----------\\n\\nresponse\\n-----------\\nThe cat and the dog are best friends and always play together.',\n",
              " 'prompt\\n-----------\\nGive me a sentence with the word \"cat\".\\n-----------\\n\\nresponse\\n-----------\\nI have a pet cat named Whiskers.\\n-----------',\n",
              " 'prompt\\n-----------\\nPlease provide a sentence that contains the words \"cat\" and \"dog\".\\n-----------\\n\\nresponse\\n-----------\\nThe cat and the dog are playing together in the backyard.',\n",
              " 'prompt\\n-----------\\nPlease provide a sentence that contains the words \"cat\" and \"dog\".\\n-----------\\n\\nresponse\\n-----------\\nI have a pet cat and a dog named Bella.',\n",
              " 'prompt\\n-----------\\nPlease provide a sentence that contains the word \"cat\".\\n-----------\\n\\nresponse\\n-----------\\nThe black cat jumped over the fence.',\n",
              " 'prompt\\n-----------\\nPlease create a sentence that includes the words \"cat\" and \"dog\".\\n-----------\\n\\nresponse\\n-----------\\nThe cat and the dog are playing together in the backyard.',\n",
              " 'prompt\\n-----------\\nPlease create a sentence that includes the words \"cat\" and \"dog\".\\n-----------\\n\\nresponse\\n-----------\\nI have a pet cat named Whiskers and a dog named Max.',\n",
              " 'prompt\\n-----------\\nPlease provide a sentence that includes the word \"cat\".\\n-----------\\n\\nresponse\\n-----------\\nI saw a cute cat on my way to work today.',\n",
              " 'prompt\\n-----------\\nPlease create a sentence that includes the words \"cat\" and \"dog\".\\n-----------\\n\\nresponse\\n-----------\\nThe cat and the dog are playing together in the backyard.',\n",
              " 'prompt\\n-----------\\nPlease provide a sentence that includes the words \"cat\" and \"dog\".\\n-----------\\n\\nresponse\\n-----------\\nThe cat and the dog are best friends and always play together.',\n",
              " 'prompt\\n-----------\\nPlease create a sentence that includes the words \"cat\" and \"dog\".\\n-----------\\n\\nresponse\\n-----------\\nI have a pet cat named Whiskers and a dog named Max.',\n",
              " 'prompt\\n-----------\\nPlease create a sentence that includes the words \"cat\" and \"dog\".\\n-----------\\n\\nresponse\\n-----------\\nThe cat and the dog are playing together in the backyard.',\n",
              " 'prompt\\n-----------\\nPlease create a sentence that includes the words \"cat\" and \"dog\".\\n-----------\\n\\nresponse\\n-----------\\nI have a pet cat named Whiskers and a dog named Max.',\n",
              " 'prompt\\n-----------\\nCan you create a sentence that includes the words \"cat\" and \"dog\"?\\n-----------\\n\\nresponse\\n-----------\\nThe cat and the dog are playing in the park.',\n",
              " 'prompt\\n-----------\\nPlease provide a sentence that contains the words \"cat\" and \"dog\".\\n-----------\\n\\nresponse\\n-----------\\nI have a pet cat named Whiskers and a dog named Max.',\n",
              " 'prompt\\n-----------\\nPlease create a sentence that includes the words \"cat\" and \"dog\".\\n-----------\\n\\nresponse\\n-----------\\nI have a cat and a dog as pets.']"
            ]
          },
          "metadata": {},
          "execution_count": 7
        }
      ]
    },
    {
      "cell_type": "markdown",
      "source": [
        "We also need to generate a system message."
      ],
      "metadata": {
        "id": "KC6iJzXjugJ-"
      }
    },
    {
      "cell_type": "code",
      "source": [
        "def generate_system_message(prompt):\n",
        "\n",
        "    response = openai.ChatCompletion.create(\n",
        "        model=\"gpt-4\",\n",
        "        messages=[\n",
        "          {\n",
        "            \"role\": \"system\",\n",
        "            \"content\": \"You will be given a high-level description of the model we are training, and from that, you will generate a simple system prompt for that model to use. Remember, you are not generating the system message for data generation -- you are generating the system message to use for inference. A good format to follow is `Given $INPUT_DATA, you will $WHAT_THE_MODEL_SHOULD_DO.`.\\n\\nMake it as concise as possible. Include nothing but the system prompt in your response.\\n\\nFor example, never write: `\\\"$SYSTEM_PROMPT_HERE\\\"`.\\n\\nIt should be like: `$SYSTEM_PROMPT_HERE`.\"\n",
        "          },\n",
        "          {\n",
        "              \"role\": \"user\",\n",
        "              \"content\": prompt.strip(),\n",
        "          }\n",
        "        ],\n",
        "        temperature=temperature,\n",
        "        max_tokens=500,\n",
        "    )\n",
        "\n",
        "    return response.choices[0].message['content']\n",
        "\n",
        "system_message = generate_system_message(prompt)\n",
        "\n",
        "print(f'The system message is: `{system_message}`. Feel free to re-run this cell if you want a better result.')"
      ],
      "metadata": {
        "id": "xMcfhW6Guh2E",
        "outputId": "4586ec62-0453-404b-900e-820bf455d9e1",
        "colab": {
          "base_uri": "https://localhost:8080/"
        }
      },
      "execution_count": null,
      "outputs": [
        {
          "output_type": "stream",
          "name": "stdout",
          "text": [
            "The system message is: `Given a list of English words, generate a sentence incorporating all these words.`. Feel free to re-run this cell if you want a better result.\n"
          ]
        }
      ]
    },
    {
      "cell_type": "markdown",
      "source": [
        "Now let's put our examples into a dataframe and turn them into a final pair of datasets."
      ],
      "metadata": {
        "id": "G6BqZ-hjseBF"
      }
    },
    {
      "cell_type": "code",
      "source": [
        "# len(prompts), len(responses)  # check if needed"
      ],
      "metadata": {
        "id": "OnYHQPCkIayE"
      },
      "execution_count": null,
      "outputs": []
    },
    {
      "cell_type": "code",
      "source": [
        "import pandas as pd\n",
        "\n",
        "# Initialize lists to store prompts and responses\n",
        "prompts = []\n",
        "responses = []\n",
        "\n",
        "# Parse out prompts and responses from examples\n",
        "for example in prev_examples:\n",
        "  try:\n",
        "    split_example = example.split('-----------')\n",
        "    prompts.append(split_example[1].strip())\n",
        "    responses.append(split_example[3].strip())  # check your idx\n",
        "  except:\n",
        "    pass\n",
        "\n",
        "# Create a DataFrame\n",
        "df = pd.DataFrame({\n",
        "    'prompt': prompts,\n",
        "    'response': responses\n",
        "})\n",
        "\n",
        "# Remove duplicates\n",
        "df = df.drop_duplicates()\n",
        "\n",
        "print('There are ' + str(len(df)) + ' successfully-generated examples. Here are the first few:')\n",
        "\n",
        "df.head()"
      ],
      "metadata": {
        "id": "7CEdkYeRsdmB",
        "outputId": "f54660b1-d19d-4251-8098-15f64b12eb52",
        "colab": {
          "base_uri": "https://localhost:8080/",
          "height": 224
        }
      },
      "execution_count": null,
      "outputs": [
        {
          "output_type": "stream",
          "name": "stdout",
          "text": [
            "There are 44 successfully-generated examples. Here are the first few:\n"
          ]
        },
        {
          "output_type": "execute_result",
          "data": {
            "text/plain": [
              "                                              prompt  \\\n",
              "0            Give me a sentence with the word \"cat\".   \n",
              "1  Please provide a sentence that includes the wo...   \n",
              "2  Can you create a sentence that contains the wo...   \n",
              "3  I need a sentence that includes the words \"cat...   \n",
              "4  Could you give me a sentence that includes the...   \n",
              "\n",
              "                                            response  \n",
              "0                   I have a pet cat named Whiskers.  \n",
              "1   The cat and the dog are playing in the backyard.  \n",
              "2  The cat chased the dog while the bird watched ...  \n",
              "3  The cat and the dog were chasing each other, w...  \n",
              "4  The cat and the dog were playing in the garden...  "
            ],
            "text/html": [
              "\n",
              "\n",
              "  <div id=\"df-20c47540-ce20-4831-b2bd-95ae1c99098c\">\n",
              "    <div class=\"colab-df-container\">\n",
              "      <div>\n",
              "<style scoped>\n",
              "    .dataframe tbody tr th:only-of-type {\n",
              "        vertical-align: middle;\n",
              "    }\n",
              "\n",
              "    .dataframe tbody tr th {\n",
              "        vertical-align: top;\n",
              "    }\n",
              "\n",
              "    .dataframe thead th {\n",
              "        text-align: right;\n",
              "    }\n",
              "</style>\n",
              "<table border=\"1\" class=\"dataframe\">\n",
              "  <thead>\n",
              "    <tr style=\"text-align: right;\">\n",
              "      <th></th>\n",
              "      <th>prompt</th>\n",
              "      <th>response</th>\n",
              "    </tr>\n",
              "  </thead>\n",
              "  <tbody>\n",
              "    <tr>\n",
              "      <th>0</th>\n",
              "      <td>Give me a sentence with the word \"cat\".</td>\n",
              "      <td>I have a pet cat named Whiskers.</td>\n",
              "    </tr>\n",
              "    <tr>\n",
              "      <th>1</th>\n",
              "      <td>Please provide a sentence that includes the wo...</td>\n",
              "      <td>The cat and the dog are playing in the backyard.</td>\n",
              "    </tr>\n",
              "    <tr>\n",
              "      <th>2</th>\n",
              "      <td>Can you create a sentence that contains the wo...</td>\n",
              "      <td>The cat chased the dog while the bird watched ...</td>\n",
              "    </tr>\n",
              "    <tr>\n",
              "      <th>3</th>\n",
              "      <td>I need a sentence that includes the words \"cat...</td>\n",
              "      <td>The cat and the dog were chasing each other, w...</td>\n",
              "    </tr>\n",
              "    <tr>\n",
              "      <th>4</th>\n",
              "      <td>Could you give me a sentence that includes the...</td>\n",
              "      <td>The cat and the dog were playing in the garden...</td>\n",
              "    </tr>\n",
              "  </tbody>\n",
              "</table>\n",
              "</div>\n",
              "      <button class=\"colab-df-convert\" onclick=\"convertToInteractive('df-20c47540-ce20-4831-b2bd-95ae1c99098c')\"\n",
              "              title=\"Convert this dataframe to an interactive table.\"\n",
              "              style=\"display:none;\">\n",
              "\n",
              "  <svg xmlns=\"http://www.w3.org/2000/svg\" height=\"24px\"viewBox=\"0 0 24 24\"\n",
              "       width=\"24px\">\n",
              "    <path d=\"M0 0h24v24H0V0z\" fill=\"none\"/>\n",
              "    <path d=\"M18.56 5.44l.94 2.06.94-2.06 2.06-.94-2.06-.94-.94-2.06-.94 2.06-2.06.94zm-11 1L8.5 8.5l.94-2.06 2.06-.94-2.06-.94L8.5 2.5l-.94 2.06-2.06.94zm10 10l.94 2.06.94-2.06 2.06-.94-2.06-.94-.94-2.06-.94 2.06-2.06.94z\"/><path d=\"M17.41 7.96l-1.37-1.37c-.4-.4-.92-.59-1.43-.59-.52 0-1.04.2-1.43.59L10.3 9.45l-7.72 7.72c-.78.78-.78 2.05 0 2.83L4 21.41c.39.39.9.59 1.41.59.51 0 1.02-.2 1.41-.59l7.78-7.78 2.81-2.81c.8-.78.8-2.07 0-2.86zM5.41 20L4 18.59l7.72-7.72 1.47 1.35L5.41 20z\"/>\n",
              "  </svg>\n",
              "      </button>\n",
              "\n",
              "\n",
              "\n",
              "    <div id=\"df-cc37f3e1-2233-44b9-90ac-cc73ee9f127f\">\n",
              "      <button class=\"colab-df-quickchart\" onclick=\"quickchart('df-cc37f3e1-2233-44b9-90ac-cc73ee9f127f')\"\n",
              "              title=\"Suggest charts.\"\n",
              "              style=\"display:none;\">\n",
              "\n",
              "<svg xmlns=\"http://www.w3.org/2000/svg\" height=\"24px\"viewBox=\"0 0 24 24\"\n",
              "     width=\"24px\">\n",
              "    <g>\n",
              "        <path d=\"M19 3H5c-1.1 0-2 .9-2 2v14c0 1.1.9 2 2 2h14c1.1 0 2-.9 2-2V5c0-1.1-.9-2-2-2zM9 17H7v-7h2v7zm4 0h-2V7h2v10zm4 0h-2v-4h2v4z\"/>\n",
              "    </g>\n",
              "</svg>\n",
              "      </button>\n",
              "    </div>\n",
              "\n",
              "<style>\n",
              "  .colab-df-quickchart {\n",
              "    background-color: #E8F0FE;\n",
              "    border: none;\n",
              "    border-radius: 50%;\n",
              "    cursor: pointer;\n",
              "    display: none;\n",
              "    fill: #1967D2;\n",
              "    height: 32px;\n",
              "    padding: 0 0 0 0;\n",
              "    width: 32px;\n",
              "  }\n",
              "\n",
              "  .colab-df-quickchart:hover {\n",
              "    background-color: #E2EBFA;\n",
              "    box-shadow: 0px 1px 2px rgba(60, 64, 67, 0.3), 0px 1px 3px 1px rgba(60, 64, 67, 0.15);\n",
              "    fill: #174EA6;\n",
              "  }\n",
              "\n",
              "  [theme=dark] .colab-df-quickchart {\n",
              "    background-color: #3B4455;\n",
              "    fill: #D2E3FC;\n",
              "  }\n",
              "\n",
              "  [theme=dark] .colab-df-quickchart:hover {\n",
              "    background-color: #434B5C;\n",
              "    box-shadow: 0px 1px 3px 1px rgba(0, 0, 0, 0.15);\n",
              "    filter: drop-shadow(0px 1px 2px rgba(0, 0, 0, 0.3));\n",
              "    fill: #FFFFFF;\n",
              "  }\n",
              "</style>\n",
              "\n",
              "    <script>\n",
              "      async function quickchart(key) {\n",
              "        const containerElement = document.querySelector('#' + key);\n",
              "        const charts = await google.colab.kernel.invokeFunction(\n",
              "            'suggestCharts', [key], {});\n",
              "      }\n",
              "    </script>\n",
              "\n",
              "      <script>\n",
              "\n",
              "function displayQuickchartButton(domScope) {\n",
              "  let quickchartButtonEl =\n",
              "    domScope.querySelector('#df-cc37f3e1-2233-44b9-90ac-cc73ee9f127f button.colab-df-quickchart');\n",
              "  quickchartButtonEl.style.display =\n",
              "    google.colab.kernel.accessAllowed ? 'block' : 'none';\n",
              "}\n",
              "\n",
              "        displayQuickchartButton(document);\n",
              "      </script>\n",
              "      <style>\n",
              "    .colab-df-container {\n",
              "      display:flex;\n",
              "      flex-wrap:wrap;\n",
              "      gap: 12px;\n",
              "    }\n",
              "\n",
              "    .colab-df-convert {\n",
              "      background-color: #E8F0FE;\n",
              "      border: none;\n",
              "      border-radius: 50%;\n",
              "      cursor: pointer;\n",
              "      display: none;\n",
              "      fill: #1967D2;\n",
              "      height: 32px;\n",
              "      padding: 0 0 0 0;\n",
              "      width: 32px;\n",
              "    }\n",
              "\n",
              "    .colab-df-convert:hover {\n",
              "      background-color: #E2EBFA;\n",
              "      box-shadow: 0px 1px 2px rgba(60, 64, 67, 0.3), 0px 1px 3px 1px rgba(60, 64, 67, 0.15);\n",
              "      fill: #174EA6;\n",
              "    }\n",
              "\n",
              "    [theme=dark] .colab-df-convert {\n",
              "      background-color: #3B4455;\n",
              "      fill: #D2E3FC;\n",
              "    }\n",
              "\n",
              "    [theme=dark] .colab-df-convert:hover {\n",
              "      background-color: #434B5C;\n",
              "      box-shadow: 0px 1px 3px 1px rgba(0, 0, 0, 0.15);\n",
              "      filter: drop-shadow(0px 1px 2px rgba(0, 0, 0, 0.3));\n",
              "      fill: #FFFFFF;\n",
              "    }\n",
              "  </style>\n",
              "\n",
              "      <script>\n",
              "        const buttonEl =\n",
              "          document.querySelector('#df-20c47540-ce20-4831-b2bd-95ae1c99098c button.colab-df-convert');\n",
              "        buttonEl.style.display =\n",
              "          google.colab.kernel.accessAllowed ? 'block' : 'none';\n",
              "\n",
              "        async function convertToInteractive(key) {\n",
              "          const element = document.querySelector('#df-20c47540-ce20-4831-b2bd-95ae1c99098c');\n",
              "          const dataTable =\n",
              "            await google.colab.kernel.invokeFunction('convertToInteractive',\n",
              "                                                     [key], {});\n",
              "          if (!dataTable) return;\n",
              "\n",
              "          const docLinkHtml = 'Like what you see? Visit the ' +\n",
              "            '<a target=\"_blank\" href=https://colab.research.google.com/notebooks/data_table.ipynb>data table notebook</a>'\n",
              "            + ' to learn more about interactive tables.';\n",
              "          element.innerHTML = '';\n",
              "          dataTable['output_type'] = 'display_data';\n",
              "          await google.colab.output.renderOutput(dataTable, element);\n",
              "          const docLink = document.createElement('div');\n",
              "          docLink.innerHTML = docLinkHtml;\n",
              "          element.appendChild(docLink);\n",
              "        }\n",
              "      </script>\n",
              "    </div>\n",
              "  </div>\n"
            ]
          },
          "metadata": {},
          "execution_count": 11
        }
      ]
    },
    {
      "cell_type": "code",
      "source": [
        "df.loc[df['response'].apply(lambda x: \"note\" in str(x).lower())] # check if there is redundand text"
      ],
      "metadata": {
        "colab": {
          "base_uri": "https://localhost:8080/",
          "height": 49
        },
        "id": "QwteQLnIQ4rs",
        "outputId": "54f503c7-cb61-4a14-b506-9344549085b1"
      },
      "execution_count": null,
      "outputs": [
        {
          "output_type": "execute_result",
          "data": {
            "text/plain": [
              "Empty DataFrame\n",
              "Columns: [prompt, response]\n",
              "Index: []"
            ],
            "text/html": [
              "\n",
              "\n",
              "  <div id=\"df-8d0b1735-1179-4816-be10-45cedeee795e\">\n",
              "    <div class=\"colab-df-container\">\n",
              "      <div>\n",
              "<style scoped>\n",
              "    .dataframe tbody tr th:only-of-type {\n",
              "        vertical-align: middle;\n",
              "    }\n",
              "\n",
              "    .dataframe tbody tr th {\n",
              "        vertical-align: top;\n",
              "    }\n",
              "\n",
              "    .dataframe thead th {\n",
              "        text-align: right;\n",
              "    }\n",
              "</style>\n",
              "<table border=\"1\" class=\"dataframe\">\n",
              "  <thead>\n",
              "    <tr style=\"text-align: right;\">\n",
              "      <th></th>\n",
              "      <th>prompt</th>\n",
              "      <th>response</th>\n",
              "    </tr>\n",
              "  </thead>\n",
              "  <tbody>\n",
              "  </tbody>\n",
              "</table>\n",
              "</div>\n",
              "      <button class=\"colab-df-convert\" onclick=\"convertToInteractive('df-8d0b1735-1179-4816-be10-45cedeee795e')\"\n",
              "              title=\"Convert this dataframe to an interactive table.\"\n",
              "              style=\"display:none;\">\n",
              "\n",
              "  <svg xmlns=\"http://www.w3.org/2000/svg\" height=\"24px\"viewBox=\"0 0 24 24\"\n",
              "       width=\"24px\">\n",
              "    <path d=\"M0 0h24v24H0V0z\" fill=\"none\"/>\n",
              "    <path d=\"M18.56 5.44l.94 2.06.94-2.06 2.06-.94-2.06-.94-.94-2.06-.94 2.06-2.06.94zm-11 1L8.5 8.5l.94-2.06 2.06-.94-2.06-.94L8.5 2.5l-.94 2.06-2.06.94zm10 10l.94 2.06.94-2.06 2.06-.94-2.06-.94-.94-2.06-.94 2.06-2.06.94z\"/><path d=\"M17.41 7.96l-1.37-1.37c-.4-.4-.92-.59-1.43-.59-.52 0-1.04.2-1.43.59L10.3 9.45l-7.72 7.72c-.78.78-.78 2.05 0 2.83L4 21.41c.39.39.9.59 1.41.59.51 0 1.02-.2 1.41-.59l7.78-7.78 2.81-2.81c.8-.78.8-2.07 0-2.86zM5.41 20L4 18.59l7.72-7.72 1.47 1.35L5.41 20z\"/>\n",
              "  </svg>\n",
              "      </button>\n",
              "\n",
              "\n",
              "\n",
              "    <div id=\"df-10fbe1d9-8d8d-4176-8a4a-91f7ab6b60ba\">\n",
              "      <button class=\"colab-df-quickchart\" onclick=\"quickchart('df-10fbe1d9-8d8d-4176-8a4a-91f7ab6b60ba')\"\n",
              "              title=\"Suggest charts.\"\n",
              "              style=\"display:none;\">\n",
              "\n",
              "<svg xmlns=\"http://www.w3.org/2000/svg\" height=\"24px\"viewBox=\"0 0 24 24\"\n",
              "     width=\"24px\">\n",
              "    <g>\n",
              "        <path d=\"M19 3H5c-1.1 0-2 .9-2 2v14c0 1.1.9 2 2 2h14c1.1 0 2-.9 2-2V5c0-1.1-.9-2-2-2zM9 17H7v-7h2v7zm4 0h-2V7h2v10zm4 0h-2v-4h2v4z\"/>\n",
              "    </g>\n",
              "</svg>\n",
              "      </button>\n",
              "    </div>\n",
              "\n",
              "<style>\n",
              "  .colab-df-quickchart {\n",
              "    background-color: #E8F0FE;\n",
              "    border: none;\n",
              "    border-radius: 50%;\n",
              "    cursor: pointer;\n",
              "    display: none;\n",
              "    fill: #1967D2;\n",
              "    height: 32px;\n",
              "    padding: 0 0 0 0;\n",
              "    width: 32px;\n",
              "  }\n",
              "\n",
              "  .colab-df-quickchart:hover {\n",
              "    background-color: #E2EBFA;\n",
              "    box-shadow: 0px 1px 2px rgba(60, 64, 67, 0.3), 0px 1px 3px 1px rgba(60, 64, 67, 0.15);\n",
              "    fill: #174EA6;\n",
              "  }\n",
              "\n",
              "  [theme=dark] .colab-df-quickchart {\n",
              "    background-color: #3B4455;\n",
              "    fill: #D2E3FC;\n",
              "  }\n",
              "\n",
              "  [theme=dark] .colab-df-quickchart:hover {\n",
              "    background-color: #434B5C;\n",
              "    box-shadow: 0px 1px 3px 1px rgba(0, 0, 0, 0.15);\n",
              "    filter: drop-shadow(0px 1px 2px rgba(0, 0, 0, 0.3));\n",
              "    fill: #FFFFFF;\n",
              "  }\n",
              "</style>\n",
              "\n",
              "    <script>\n",
              "      async function quickchart(key) {\n",
              "        const containerElement = document.querySelector('#' + key);\n",
              "        const charts = await google.colab.kernel.invokeFunction(\n",
              "            'suggestCharts', [key], {});\n",
              "      }\n",
              "    </script>\n",
              "\n",
              "      <script>\n",
              "\n",
              "function displayQuickchartButton(domScope) {\n",
              "  let quickchartButtonEl =\n",
              "    domScope.querySelector('#df-10fbe1d9-8d8d-4176-8a4a-91f7ab6b60ba button.colab-df-quickchart');\n",
              "  quickchartButtonEl.style.display =\n",
              "    google.colab.kernel.accessAllowed ? 'block' : 'none';\n",
              "}\n",
              "\n",
              "        displayQuickchartButton(document);\n",
              "      </script>\n",
              "      <style>\n",
              "    .colab-df-container {\n",
              "      display:flex;\n",
              "      flex-wrap:wrap;\n",
              "      gap: 12px;\n",
              "    }\n",
              "\n",
              "    .colab-df-convert {\n",
              "      background-color: #E8F0FE;\n",
              "      border: none;\n",
              "      border-radius: 50%;\n",
              "      cursor: pointer;\n",
              "      display: none;\n",
              "      fill: #1967D2;\n",
              "      height: 32px;\n",
              "      padding: 0 0 0 0;\n",
              "      width: 32px;\n",
              "    }\n",
              "\n",
              "    .colab-df-convert:hover {\n",
              "      background-color: #E2EBFA;\n",
              "      box-shadow: 0px 1px 2px rgba(60, 64, 67, 0.3), 0px 1px 3px 1px rgba(60, 64, 67, 0.15);\n",
              "      fill: #174EA6;\n",
              "    }\n",
              "\n",
              "    [theme=dark] .colab-df-convert {\n",
              "      background-color: #3B4455;\n",
              "      fill: #D2E3FC;\n",
              "    }\n",
              "\n",
              "    [theme=dark] .colab-df-convert:hover {\n",
              "      background-color: #434B5C;\n",
              "      box-shadow: 0px 1px 3px 1px rgba(0, 0, 0, 0.15);\n",
              "      filter: drop-shadow(0px 1px 2px rgba(0, 0, 0, 0.3));\n",
              "      fill: #FFFFFF;\n",
              "    }\n",
              "  </style>\n",
              "\n",
              "      <script>\n",
              "        const buttonEl =\n",
              "          document.querySelector('#df-8d0b1735-1179-4816-be10-45cedeee795e button.colab-df-convert');\n",
              "        buttonEl.style.display =\n",
              "          google.colab.kernel.accessAllowed ? 'block' : 'none';\n",
              "\n",
              "        async function convertToInteractive(key) {\n",
              "          const element = document.querySelector('#df-8d0b1735-1179-4816-be10-45cedeee795e');\n",
              "          const dataTable =\n",
              "            await google.colab.kernel.invokeFunction('convertToInteractive',\n",
              "                                                     [key], {});\n",
              "          if (!dataTable) return;\n",
              "\n",
              "          const docLinkHtml = 'Like what you see? Visit the ' +\n",
              "            '<a target=\"_blank\" href=https://colab.research.google.com/notebooks/data_table.ipynb>data table notebook</a>'\n",
              "            + ' to learn more about interactive tables.';\n",
              "          element.innerHTML = '';\n",
              "          dataTable['output_type'] = 'display_data';\n",
              "          await google.colab.output.renderOutput(dataTable, element);\n",
              "          const docLink = document.createElement('div');\n",
              "          docLink.innerHTML = docLinkHtml;\n",
              "          element.appendChild(docLink);\n",
              "        }\n",
              "      </script>\n",
              "    </div>\n",
              "  </div>\n"
            ]
          },
          "metadata": {},
          "execution_count": 12
        }
      ]
    },
    {
      "cell_type": "markdown",
      "source": [
        "Split into train and test sets."
      ],
      "metadata": {
        "id": "A-8dt5qqtpgM"
      }
    },
    {
      "cell_type": "code",
      "source": [
        "# Split the data into train and test sets, with 90% in the train set\n",
        "train_df = df.sample(frac=0.9, random_state=42)\n",
        "test_df = df.drop(train_df.index)\n",
        "\n",
        "# Save the dataframes to .jsonl files\n",
        "train_df.to_json('train.jsonl', orient='records', lines=True)\n",
        "test_df.to_json('test.jsonl', orient='records', lines=True)"
      ],
      "metadata": {
        "id": "GFPEn1omtrXM"
      },
      "execution_count": null,
      "outputs": []
    },
    {
      "cell_type": "markdown",
      "source": [
        "# 💫 **Fine-Tuning**"
      ],
      "metadata": {
        "id": "moVo0led-6tu"
      }
    },
    {
      "cell_type": "markdown",
      "source": [
        "Define Hyperparameters"
      ],
      "metadata": {
        "id": "gJ8X9Cv41L_h"
      }
    },
    {
      "cell_type": "code",
      "source": [
        "model_name = \"NousResearch/llama-2-7b-chat-hf\" # use this if you have access to the official LLaMA 2 model \"meta-llama/Llama-2-7b-chat-hf\", though keep in mind you'll need to pass a Hugging Face key argument\n",
        "dataset_name = \"/content/train.jsonl\"\n",
        "new_model = \"llama-2-7b-custom\"\n",
        "lora_r = 64\n",
        "lora_alpha = 16\n",
        "lora_dropout = 0.1\n",
        "use_4bit = True\n",
        "bnb_4bit_compute_dtype = \"float16\"\n",
        "bnb_4bit_quant_type = \"nf4\"\n",
        "use_nested_quant = False\n",
        "output_dir = \"./results\"\n",
        "num_train_epochs = 2\n",
        "fp16 = False\n",
        "bf16 = False\n",
        "per_device_train_batch_size = 4\n",
        "per_device_eval_batch_size = 4\n",
        "gradient_accumulation_steps = 1\n",
        "gradient_checkpointing = True\n",
        "max_grad_norm = 0.3\n",
        "learning_rate = 2e-4\n",
        "weight_decay = 0.001\n",
        "optim = \"paged_adamw_32bit\"\n",
        "lr_scheduler_type = \"constant\"\n",
        "max_steps = -1\n",
        "warmup_ratio = 0.03\n",
        "group_by_length = True\n",
        "save_steps = 25\n",
        "logging_steps = 5\n",
        "max_seq_length = None\n",
        "packing = False\n",
        "device_map = {\"\": 0}"
      ],
      "metadata": {
        "id": "bqfbhUZI-4c_"
      },
      "execution_count": null,
      "outputs": []
    },
    {
      "cell_type": "markdown",
      "source": [
        "Load Datasets and Train"
      ],
      "metadata": {
        "id": "F-J5p5KS_MZY"
      }
    },
    {
      "cell_type": "code",
      "source": [
        "# # Reload after restart if needed\n",
        "# system_message = \"Given a list of English words, generate a sentence incorporating all these words.\"\n",
        "# example_input = [\"left\", \"rock\", \"play\"]"
      ],
      "metadata": {
        "id": "dzZ28fNEr5Md"
      },
      "execution_count": null,
      "outputs": []
    },
    {
      "cell_type": "code",
      "source": [
        "# Load datasets\n",
        "train_dataset = load_dataset('json', data_files='/content/train.jsonl', split=\"train\")\n",
        "valid_dataset = load_dataset('json', data_files='/content/test.jsonl', split=\"train\")\n",
        "\n",
        "# Preprocess datasets\n",
        "train_dataset_mapped = train_dataset.map(lambda examples: {'text': [f'[INST] <<SYS>>\\n{system_message.strip()}\\n<</SYS>>\\n\\n' + prompt + ' [/INST] ' + response for prompt, response in zip(examples['prompt'], examples['response'])]}, batched=True)\n",
        "valid_dataset_mapped = valid_dataset.map(lambda examples: {'text': [f'[INST] <<SYS>>\\n{system_message.strip()}\\n<</SYS>>\\n\\n' + prompt + ' [/INST] ' + response for prompt, response in zip(examples['prompt'], examples['response'])]}, batched=True)\n",
        "\n",
        "compute_dtype = getattr(torch, bnb_4bit_compute_dtype)\n",
        "bnb_config = BitsAndBytesConfig(\n",
        "    load_in_4bit=use_4bit,\n",
        "    bnb_4bit_quant_type=bnb_4bit_quant_type,\n",
        "    bnb_4bit_compute_dtype=compute_dtype,\n",
        "    bnb_4bit_use_double_quant=use_nested_quant,\n",
        ")\n",
        "model = AutoModelForCausalLM.from_pretrained(\n",
        "    model_name,\n",
        "    quantization_config=bnb_config,\n",
        "    device_map=device_map\n",
        ")\n",
        "model.config.use_cache = False\n",
        "model.config.pretraining_tp = 1\n",
        "tokenizer = AutoTokenizer.from_pretrained(model_name, trust_remote_code=True)\n",
        "tokenizer.pad_token = tokenizer.eos_token\n",
        "tokenizer.padding_side = \"right\"\n",
        "peft_config = LoraConfig(\n",
        "    lora_alpha=lora_alpha,\n",
        "    lora_dropout=lora_dropout,\n",
        "    r=lora_r,\n",
        "    bias=\"none\",\n",
        "    task_type=\"CAUSAL_LM\",\n",
        ")\n",
        "# Set training parameters\n",
        "training_arguments = TrainingArguments(\n",
        "    output_dir=output_dir,\n",
        "    num_train_epochs=num_train_epochs,\n",
        "    per_device_train_batch_size=per_device_train_batch_size,\n",
        "    gradient_accumulation_steps=gradient_accumulation_steps,\n",
        "    optim=optim,\n",
        "    save_steps=save_steps,\n",
        "    logging_steps=logging_steps,\n",
        "    learning_rate=learning_rate,\n",
        "    weight_decay=weight_decay,\n",
        "    fp16=fp16,\n",
        "    bf16=bf16,\n",
        "    max_grad_norm=max_grad_norm,\n",
        "    max_steps=max_steps,\n",
        "    warmup_ratio=warmup_ratio,\n",
        "    group_by_length=group_by_length,\n",
        "    lr_scheduler_type=lr_scheduler_type,\n",
        "    report_to=\"all\",\n",
        "    evaluation_strategy=\"steps\",\n",
        "    eval_steps=5  # Evaluate every 20 steps\n",
        ")\n",
        "# Set supervised fine-tuning parameters\n",
        "trainer = SFTTrainer(\n",
        "    model=model,\n",
        "    train_dataset=train_dataset_mapped,\n",
        "    eval_dataset=valid_dataset_mapped,  # Pass validation dataset here\n",
        "    peft_config=peft_config,\n",
        "    dataset_text_field=\"text\",\n",
        "    max_seq_length=max_seq_length,\n",
        "    tokenizer=tokenizer,\n",
        "    args=training_arguments,\n",
        "    packing=packing,\n",
        ")\n",
        "trainer.train()\n",
        "trainer.model.save_pretrained(new_model)\n",
        "\n",
        "# Clear output\n",
        "clear_output()\n",
        "inf('\\u2714 Done','success', '50px')"
      ],
      "metadata": {
        "id": "qf1qxbiF-x6p",
        "outputId": "770632fa-ef52-4de2-c80d-c8062be1af0b",
        "colab": {
          "base_uri": "https://localhost:8080/",
          "height": 49,
          "referenced_widgets": [
            "f7a66999919f405799a3aa734af62587",
            "48050c5ef9004d5d8206a52547794d69",
            "88ff036ca14040c386d8fbbfa009c803"
          ]
        }
      },
      "execution_count": null,
      "outputs": [
        {
          "output_type": "display_data",
          "data": {
            "text/plain": [
              "Button(button_style='success', description='✔ Done', disabled=True, layout=Layout(min_width='50px'), style=But…"
            ],
            "application/vnd.jupyter.widget-view+json": {
              "version_major": 2,
              "version_minor": 0,
              "model_id": "f7a66999919f405799a3aa734af62587"
            }
          },
          "metadata": {}
        }
      ]
    },
    {
      "cell_type": "markdown",
      "source": [
        "Test the model"
      ],
      "metadata": {
        "id": "z0PMWNTS-Ukv"
      }
    },
    {
      "cell_type": "code",
      "source": [
        "# Test the model\n",
        "logging.set_verbosity(logging.CRITICAL)\n",
        "example_input = [\"girl\", \"check\", \"rock\", \"politics\"]\n",
        "prompt = f\"[INST] <<SYS>>\\n{system_message}\\n<</SYS>>\\n\\n{example_input} [/INST]\"\n",
        "pipe = pipeline(task=\"text-generation\", model=model, tokenizer=tokenizer, max_length=200)\n",
        "result = pipe(prompt)\n",
        "print(result[0]['generated_text'])"
      ],
      "metadata": {
        "colab": {
          "base_uri": "https://localhost:8080/"
        },
        "id": "0Q6-3T4wRVca",
        "outputId": "3603fe60-c6f3-4395-ead6-4ee03faed2d9"
      },
      "execution_count": null,
      "outputs": [
        {
          "output_type": "stream",
          "name": "stderr",
          "text": [
            "/usr/local/lib/python3.10/dist-packages/transformers/generation/utils.py:1270: UserWarning: You have modified the pretrained model configuration to control generation. This is a deprecated strategy to control generation and will be removed soon, in a future version. Please use a generation configuration file (see https://huggingface.co/docs/transformers/main_classes/text_generation )\n",
            "  warnings.warn(\n"
          ]
        },
        {
          "output_type": "stream",
          "name": "stdout",
          "text": [
            "[INST] <<SYS>>\n",
            "Given a list of English words, generate a sentence incorporating all these words.\n",
            "<</SYS>>\n",
            "\n",
            "['girl', 'check', 'rock', 'politics'] [/INST]  The girl checked the rock in her pocket and thought about the latest political news.\n"
          ]
        }
      ]
    },
    {
      "cell_type": "markdown",
      "source": [
        "# 🏃 **Run Inference**"
      ],
      "metadata": {
        "id": "F6fux9om_c4-"
      }
    },
    {
      "cell_type": "code",
      "source": [
        "#@markdown ☑️ Helper functions\n",
        "from IPython.display import display, HTML\n",
        "from transformers import pipeline\n",
        "\n",
        "def display_html(text):\n",
        "    html_code = f\"\"\"\n",
        "    <div style=\"border: 4px solid #4CAF50; border-radius: 10px; padding: 10px; font-size: 20px; color: #333;\">\n",
        "        <blockquote style=\"quotes: '“' '”';\">\n",
        "            <strong>{text}</strong>\n",
        "        </blockquote>\n",
        "    </div>\n",
        "    \"\"\"\n",
        "    display(HTML(html_code))\n",
        "\n",
        "def extract_result(result_object):\n",
        "    raw = result_object[0]['generated_text']\n",
        "\n",
        "    # fix incorrect prompt deletion\n",
        "    try:\n",
        "      res = raw.replace(prompt, '').split('[/INST] ')[-1]\n",
        "    except Exception:\n",
        "      res = raw.replace(prompt, '')\n",
        "\n",
        "    # fix redundand comments:\n",
        "    try:\n",
        "        if \":\" in res and \"\\\"\" in res:\n",
        "            res = res.split(\":\")[-1]\n",
        "            res = res.replace(\"\\\"\", \"\").replace(\"\\n\", \"\")\n",
        "    except Exception:\n",
        "        pass\n",
        "\n",
        "    return res\n",
        "\n",
        "def format_result(result_text, words, color='lightgreen'):\n",
        "    for word in words:\n",
        "        result_text = result_text.replace(word, f'<span style=\"font-weight: bold; background-color: {color};\">{word}</span>')\n",
        "    return result_text\n",
        "\n",
        "def pprint_response(result_object, words):\n",
        "    res = extract_result(result_object)\n",
        "    html = format_result(res, words)\n",
        "    display_html(html)\n",
        "\n",
        "# # Example usage\n",
        "# result = [{'generated_text':\"This is a sample text with some important words.\"}]\n",
        "# words = [\"sample\", \"important\"]\n",
        "# pprint_response(result, words)\n",
        "\n",
        "def run_inference(example_input, system_message=system_message):\n",
        "    prompt = f\"[INST] <<SYS>>\\n{system_message}\\n<</SYS>>\\n\\n{example_input} [/INST]\" # replace the command here with something relevant to your task\n",
        "    num_new_tokens = 200  # change to the number of new tokens you want to generate\n",
        "    # Count the number of tokens in the prompt\n",
        "    num_prompt_tokens = len(tokenizer(prompt)['input_ids'])\n",
        "    # Calculate the maximum length for the generation\n",
        "    max_length = num_prompt_tokens + num_new_tokens\n",
        "    gen = pipeline('text-generation', model=model, tokenizer=tokenizer, max_length=max_length)\n",
        "    result = gen(prompt)\n",
        "    return result"
      ],
      "metadata": {
        "cellView": "form",
        "id": "jKkp5l45T5N9"
      },
      "execution_count": null,
      "outputs": []
    },
    {
      "cell_type": "code",
      "source": [
        "user_input = [\"happy\", \"sad\", \"erewwer\"]  #@param {type: \"raw\"}\n",
        "result = run_inference(user_input)\n",
        "pprint_response(result, user_input)"
      ],
      "metadata": {
        "id": "7hxQ_Ero2IJe",
        "outputId": "0b65e63b-aba3-4cd1-8433-06bbe55c61b6",
        "colab": {
          "base_uri": "https://localhost:8080/",
          "height": 110
        },
        "cellView": "form"
      },
      "execution_count": null,
      "outputs": [
        {
          "output_type": "display_data",
          "data": {
            "text/plain": [
              "<IPython.core.display.HTML object>"
            ],
            "text/html": [
              "\n",
              "    <div style=\"border: 4px solid #4CAF50; border-radius: 10px; padding: 10px; font-size: 20px; color: #333;\">\n",
              "        <blockquote style=\"quotes: '“' '”';\">\n",
              "            <strong> The cat was <span style=\"font-weight: bold; background-color: lightgreen;\">happy</span>, the dog was <span style=\"font-weight: bold; background-color: lightgreen;\">sad</span>, and the bird was singing its favorite tune, \"Erewwer\".</strong>\n",
              "        </blockquote>\n",
              "    </div>\n",
              "    "
            ]
          },
          "metadata": {}
        }
      ]
    },
    {
      "cell_type": "code",
      "source": [
        "user_input = [\"sad\", \"creative\", \"data-scientist\", \"Israel\", \"USA\"] #@param {type: \"raw\"}\n",
        "result = run_inference(user_input)\n",
        "pprint_response(result, user_input)"
      ],
      "metadata": {
        "colab": {
          "base_uri": "https://localhost:8080/",
          "height": 135
        },
        "cellView": "form",
        "id": "22t71RvNuTV6",
        "outputId": "4fe761e7-ad64-47ba-99c0-1cfdedcf8c34"
      },
      "execution_count": null,
      "outputs": [
        {
          "output_type": "display_data",
          "data": {
            "text/plain": [
              "<IPython.core.display.HTML object>"
            ],
            "text/html": [
              "\n",
              "    <div style=\"border: 4px solid #4CAF50; border-radius: 10px; padding: 10px; font-size: 20px; color: #333;\">\n",
              "        <blockquote style=\"quotes: '“' '”';\">\n",
              "            <strong> As a data scientist, I am <span style=\"font-weight: bold; background-color: lightgreen;\">sad</span> that I cannot travel to <span style=\"font-weight: bold; background-color: lightgreen;\">Israel</span> and the <span style=\"font-weight: bold; background-color: lightgreen;\">USA</span> due to the ongoing pandemic, but I am <span style=\"font-weight: bold; background-color: lightgreen;\">creative</span>ly finding ways to stay productive and engaged in my work while still maintaining social distancing.</strong>\n",
              "        </blockquote>\n",
              "    </div>\n",
              "    "
            ]
          },
          "metadata": {}
        }
      ]
    },
    {
      "cell_type": "code",
      "source": [
        "user_input = [\"stochastic\", \"backpropagation\", \"happy\"] #@param {type: \"raw\"}\n",
        "result = run_inference(user_input)\n",
        "pprint_response(result, user_input)"
      ],
      "metadata": {
        "colab": {
          "base_uri": "https://localhost:8080/",
          "height": 110
        },
        "cellView": "form",
        "outputId": "2af52a95-43a5-474e-eb1f-c6ca5de8e8f4",
        "id": "c3bpLhdrz0wa"
      },
      "execution_count": null,
      "outputs": [
        {
          "output_type": "display_data",
          "data": {
            "text/plain": [
              "<IPython.core.display.HTML object>"
            ],
            "text/html": [
              "\n",
              "    <div style=\"border: 4px solid #4CAF50; border-radius: 10px; padding: 10px; font-size: 20px; color: #333;\">\n",
              "        <blockquote style=\"quotes: '“' '”';\">\n",
              "            <strong>The <span style=\"font-weight: bold; background-color: lightgreen;\">stochastic</span> <span style=\"font-weight: bold; background-color: lightgreen;\">backpropagation</span> algorithm was able to learn the <span style=\"font-weight: bold; background-color: lightgreen;\">happy</span> face recognition model.</strong>\n",
              "        </blockquote>\n",
              "    </div>\n",
              "    "
            ]
          },
          "metadata": {}
        }
      ]
    },
    {
      "cell_type": "markdown",
      "source": [
        "# 🫙**Merge & store the model**"
      ],
      "metadata": {
        "id": "Ko6UkINu_qSx"
      }
    },
    {
      "cell_type": "markdown",
      "source": [
        "We need to merge the weights from LoRA with the base model. Unfortunately, as far as I know, there is no straightforward way to do it: we need to reload the base model in FP16 precision and use the peft library to merge everything. Alas, it also creates a problem with the VRAM (despite emptying it), so we need to restart the notebook and then execute the cells below."
      ],
      "metadata": {
        "id": "kDmGYxqXhTBa"
      }
    },
    {
      "cell_type": "code",
      "source": [
        "#@markdown ☑️ Reload necessary libraries\n",
        "from IPython.display import clear_output\n",
        "import ipywidgets as widgets\n",
        "import os\n",
        "\n",
        "def inf(msg, style, wdth):\n",
        "    inf = widgets.Button(description=msg,\n",
        "                         disabled=True,\n",
        "                         button_style=style,\n",
        "                         layout=widgets.Layout(min_width=wdth))\n",
        "    display(inf)\n",
        "\n",
        "import torch\n",
        "from datasets import load_dataset\n",
        "from transformers import (\n",
        "    AutoModelForCausalLM,\n",
        "    AutoTokenizer,\n",
        "    BitsAndBytesConfig,\n",
        "    HfArgumentParser,\n",
        "    TrainingArguments,\n",
        "    pipeline,\n",
        "    logging,\n",
        ")\n",
        "from peft import LoraConfig, PeftModel\n",
        "from trl import SFTTrainer\n",
        "import locale\n",
        "\n",
        "def getpreferredencoding(do_setlocale = True):\n",
        "    return \"UTF-8\"\n",
        "locale.getpreferredencoding = getpreferredencoding\n",
        "\n",
        "model_name = \"NousResearch/llama-2-7b-chat-hf\" # use this if you have access to the official LLaMA 2 model \"meta-llama/Llama-2-7b-chat-hf\", though keep in mind you'll need to pass a Hugging Face key argument\n",
        "dataset_name = \"/content/train.jsonl\"\n",
        "new_model = \"llama-2-7b-custom\"\n",
        "lora_r = 64\n",
        "lora_alpha = 16\n",
        "lora_dropout = 0.1\n",
        "use_4bit = True\n",
        "bnb_4bit_compute_dtype = \"float16\"\n",
        "bnb_4bit_quant_type = \"nf4\"\n",
        "use_nested_quant = False\n",
        "output_dir = \"./results\"\n",
        "num_train_epochs = 2\n",
        "fp16 = False\n",
        "bf16 = False\n",
        "per_device_train_batch_size = 4\n",
        "per_device_eval_batch_size = 4\n",
        "gradient_accumulation_steps = 1\n",
        "gradient_checkpointing = True\n",
        "max_grad_norm = 0.3\n",
        "learning_rate = 2e-4\n",
        "weight_decay = 0.001\n",
        "optim = \"paged_adamw_32bit\"\n",
        "lr_scheduler_type = \"constant\"\n",
        "max_steps = -1\n",
        "warmup_ratio = 0.03\n",
        "group_by_length = True\n",
        "save_steps = 25\n",
        "logging_steps = 5\n",
        "max_seq_length = None\n",
        "packing = False\n",
        "device_map = {\"\": 0}\n",
        "\n",
        "clear_output()\n",
        "inf('Done', 'success', '50px')"
      ],
      "metadata": {
        "colab": {
          "base_uri": "https://localhost:8080/",
          "height": 49,
          "referenced_widgets": [
            "3269720612324d248120841b7c7b7db1",
            "12ec7e8fdc8247658ffa142c4b50eaa3",
            "d41cae9a5a0b46b6b3498c602cf57a4e"
          ]
        },
        "cellView": "form",
        "id": "deCgoQ9Og2FY",
        "outputId": "fd2965c6-5440-406c-9d57-f29df1c7952c"
      },
      "execution_count": null,
      "outputs": [
        {
          "output_type": "display_data",
          "data": {
            "text/plain": [
              "Button(button_style='success', description='Done', disabled=True, layout=Layout(min_width='50px'), style=Butto…"
            ],
            "application/vnd.jupyter.widget-view+json": {
              "version_major": 2,
              "version_minor": 0,
              "model_id": "3269720612324d248120841b7c7b7db1"
            }
          },
          "metadata": {}
        }
      ]
    },
    {
      "cell_type": "code",
      "source": [
        "# Merge and save the fine-tuned model\n",
        "from google.colab import drive\n",
        "drive.mount('/content/drive')\n",
        "\n",
        "model_path = \"/content/drive/MyDrive/llama-2-7b-custom\"  # change to your preferred path\n",
        "\n",
        "# Reload model in FP16 and merge it with LoRA weights\n",
        "base_model = AutoModelForCausalLM.from_pretrained(\n",
        "    model_name,\n",
        "    low_cpu_mem_usage=True,\n",
        "    return_dict=True,\n",
        "    torch_dtype=torch.float16,\n",
        "    device_map=device_map,\n",
        ")\n",
        "model = PeftModel.from_pretrained(base_model, new_model)\n",
        "model = model.merge_and_unload()\n",
        "\n",
        "# Reload tokenizer to save it\n",
        "tokenizer = AutoTokenizer.from_pretrained(model_name, trust_remote_code=True)\n",
        "tokenizer.pad_token = tokenizer.eos_token\n",
        "tokenizer.padding_side = \"right\"\n",
        "\n",
        "# Save the merged model\n",
        "model.save_pretrained(model_path)\n",
        "tokenizer.save_pretrained(model_path)"
      ],
      "metadata": {
        "id": "AgKCL7fTyp9u",
        "outputId": "1f00bf23-3847-49d9-9400-5c3a0d3ececc",
        "colab": {
          "base_uri": "https://localhost:8080/",
          "height": 118,
          "referenced_widgets": [
            "1f8e0db3b36f47b98dd559992688f99f",
            "cb9d7571cdc54fae9caea65ad1706dbd",
            "8ab914b3f51040d6b7c63ad935d4cc76",
            "9352fb0cf5264970bf56d659481c1052",
            "a8909be92a8c4a6e9aebaa6d52c73f59",
            "efc08fb2bdda44179050bb363f794bc3",
            "6a270b80f9544f6e8ce2ce61b17fea61",
            "8acfdad5f1e24c3a99bf9a945a869145",
            "6fed7663e1724130ba6015c0f80605b1",
            "15aa6983bd164455be3f3d57bfd35bd8",
            "2baba8edb7284ca6a365c0af53e0205a"
          ]
        }
      },
      "execution_count": null,
      "outputs": [
        {
          "output_type": "stream",
          "name": "stdout",
          "text": [
            "Drive already mounted at /content/drive; to attempt to forcibly remount, call drive.mount(\"/content/drive\", force_remount=True).\n"
          ]
        },
        {
          "output_type": "display_data",
          "data": {
            "text/plain": [
              "Loading checkpoint shards:   0%|          | 0/2 [00:00<?, ?it/s]"
            ],
            "application/vnd.jupyter.widget-view+json": {
              "version_major": 2,
              "version_minor": 0,
              "model_id": "1f8e0db3b36f47b98dd559992688f99f"
            }
          },
          "metadata": {}
        },
        {
          "output_type": "execute_result",
          "data": {
            "text/plain": [
              "('/content/drive/MyDrive/llama-2-7b-custom/tokenizer_config.json',\n",
              " '/content/drive/MyDrive/llama-2-7b-custom/special_tokens_map.json',\n",
              " '/content/drive/MyDrive/llama-2-7b-custom/tokenizer.json')"
            ]
          },
          "metadata": {},
          "execution_count": 2
        }
      ]
    },
    {
      "cell_type": "markdown",
      "source": [
        "# ⭐ Load a fine-tuned model from Drive and run inference *"
      ],
      "metadata": {
        "id": "do-dFdE5zWGO"
      }
    },
    {
      "cell_type": "markdown",
      "source": [
        "If you have Colab Pro+"
      ],
      "metadata": {
        "id": "Yiz5vxecmOYl"
      }
    },
    {
      "cell_type": "code",
      "source": [
        "#@markdown ☑️ Reload necessary libraries\n",
        "from IPython.display import clear_output\n",
        "import ipywidgets as widgets\n",
        "import os\n",
        "\n",
        "def inf(msg, style, wdth):\n",
        "    inf = widgets.Button(description=msg,\n",
        "                         disabled=True,\n",
        "                         button_style=style,\n",
        "                         layout=widgets.Layout(min_width=wdth))\n",
        "    display(inf)\n",
        "\n",
        "import torch\n",
        "from datasets import load_dataset\n",
        "from transformers import (\n",
        "    AutoModelForCausalLM,\n",
        "    AutoTokenizer,\n",
        "    BitsAndBytesConfig,\n",
        "    HfArgumentParser,\n",
        "    TrainingArguments,\n",
        "    pipeline,\n",
        "    logging,\n",
        ")\n",
        "from peft import LoraConfig, PeftModel\n",
        "from trl import SFTTrainer\n",
        "import locale\n",
        "\n",
        "def getpreferredencoding(do_setlocale = True):\n",
        "    return \"UTF-8\"\n",
        "locale.getpreferredencoding = getpreferredencoding\n",
        "\n",
        "model_name = \"NousResearch/llama-2-7b-chat-hf\" # use this if you have access to the official LLaMA 2 model \"meta-llama/Llama-2-7b-chat-hf\", though keep in mind you'll need to pass a Hugging Face key argument\n",
        "dataset_name = \"/content/train.jsonl\"\n",
        "new_model = \"llama-2-7b-custom\"\n",
        "lora_r = 64\n",
        "lora_alpha = 16\n",
        "lora_dropout = 0.1\n",
        "use_4bit = True\n",
        "bnb_4bit_compute_dtype = \"float16\"\n",
        "bnb_4bit_quant_type = \"nf4\"\n",
        "use_nested_quant = False\n",
        "output_dir = \"./results\"\n",
        "num_train_epochs = 2\n",
        "fp16 = False\n",
        "bf16 = False\n",
        "per_device_train_batch_size = 4\n",
        "per_device_eval_batch_size = 4\n",
        "gradient_accumulation_steps = 1\n",
        "gradient_checkpointing = True\n",
        "max_grad_norm = 0.3\n",
        "learning_rate = 2e-4\n",
        "weight_decay = 0.001\n",
        "optim = \"paged_adamw_32bit\"\n",
        "lr_scheduler_type = \"constant\"\n",
        "max_steps = -1\n",
        "warmup_ratio = 0.03\n",
        "group_by_length = True\n",
        "save_steps = 25\n",
        "logging_steps = 5\n",
        "max_seq_length = None\n",
        "packing = False\n",
        "device_map = {\"\": 0}\n",
        "\n",
        "clear_output()\n",
        "inf('Done', 'success', '50px')"
      ],
      "metadata": {
        "cellView": "form",
        "colab": {
          "base_uri": "https://localhost:8080/",
          "height": 49,
          "referenced_widgets": [
            "d10fea05adfb4871a0b7f72215a69f69",
            "f0792c2ad92a452eb6cf9847563076a1",
            "7448b0c6607f471e9733b0728284dd2f"
          ]
        },
        "id": "_8tQYZlkjEPE",
        "outputId": "15aab8f3-9fd2-4155-fbe8-274ccfb43eb4"
      },
      "execution_count": null,
      "outputs": [
        {
          "output_type": "display_data",
          "data": {
            "text/plain": [
              "Button(button_style='success', description='Done', disabled=True, layout=Layout(min_width='50px'), style=Butto…"
            ],
            "application/vnd.jupyter.widget-view+json": {
              "version_major": 2,
              "version_minor": 0,
              "model_id": "d10fea05adfb4871a0b7f72215a69f69"
            }
          },
          "metadata": {}
        }
      ]
    },
    {
      "cell_type": "code",
      "source": [
        "from google.colab import drive\n",
        "from transformers import AutoModelForCausalLM, AutoTokenizer\n",
        "\n",
        "drive.mount('/content/drive')\n",
        "\n",
        "model_path = \"/content/drive/MyDrive/llama-2-7b-custom\"  # change to the path where your model is saved\n",
        "\n",
        "model = AutoModelForCausalLM.from_pretrained(model_path, low_cpu_mem_usage=True)\n",
        "tokenizer = AutoTokenizer.from_pretrained(model_path)"
      ],
      "metadata": {
        "id": "xg6nHPsLzMw-"
      },
      "execution_count": null,
      "outputs": []
    },
    {
      "cell_type": "code",
      "source": [
        "from transformers import pipeline\n",
        "\n",
        "prompt = \"What is 2 + 2?\"  # change to your desired prompt\n",
        "gen = pipeline('text-generation', model=model, tokenizer=tokenizer)\n",
        "result = gen(prompt)\n",
        "print(result[0]['generated_text'])"
      ],
      "metadata": {
        "id": "fBK2aE2KzZ05"
      },
      "execution_count": null,
      "outputs": []
    },
    {
      "cell_type": "code",
      "source": [
        "# ! export 'PYTORCH_CUDA_ALLOC_CONF=max_split_size_mb:32'\n",
        "\n",
        "import gc\n",
        "torch.cuda.empty_cache()\n",
        "gc.collect()"
      ],
      "metadata": {
        "id": "PiBcJ4PzoaWY",
        "outputId": "c2161899-d9ab-4d45-9316-790481d59008",
        "colab": {
          "base_uri": "https://localhost:8080/"
        }
      },
      "execution_count": null,
      "outputs": [
        {
          "output_type": "execute_result",
          "data": {
            "text/plain": [
              "0"
            ]
          },
          "metadata": {},
          "execution_count": 3
        }
      ]
    }
  ],
  "metadata": {
    "accelerator": "GPU",
    "colab": {
      "machine_shape": "hm",
      "provenance": [],
      "gpuType": "T4",
      "include_colab_link": true
    },
    "kernelspec": {
      "display_name": "Python 3",
      "name": "python3"
    },
    "language_info": {
      "name": "python"
    },
    "widgets": {
      "application/vnd.jupyter.widget-state+json": {
        "252b070b87a3445c8947fd11a6ecc2be": {
          "model_module": "@jupyter-widgets/controls",
          "model_name": "ButtonModel",
          "model_module_version": "1.5.0",
          "state": {
            "_dom_classes": [],
            "_model_module": "@jupyter-widgets/controls",
            "_model_module_version": "1.5.0",
            "_model_name": "ButtonModel",
            "_view_count": null,
            "_view_module": "@jupyter-widgets/controls",
            "_view_module_version": "1.5.0",
            "_view_name": "ButtonView",
            "button_style": "success",
            "description": "✔ Done",
            "disabled": true,
            "icon": "",
            "layout": "IPY_MODEL_04d79404965046ada63dab1607677986",
            "style": "IPY_MODEL_8bb83e986b4e45e78baba470c7d409a7",
            "tooltip": ""
          }
        },
        "04d79404965046ada63dab1607677986": {
          "model_module": "@jupyter-widgets/base",
          "model_name": "LayoutModel",
          "model_module_version": "1.2.0",
          "state": {
            "_model_module": "@jupyter-widgets/base",
            "_model_module_version": "1.2.0",
            "_model_name": "LayoutModel",
            "_view_count": null,
            "_view_module": "@jupyter-widgets/base",
            "_view_module_version": "1.2.0",
            "_view_name": "LayoutView",
            "align_content": null,
            "align_items": null,
            "align_self": null,
            "border": null,
            "bottom": null,
            "display": null,
            "flex": null,
            "flex_flow": null,
            "grid_area": null,
            "grid_auto_columns": null,
            "grid_auto_flow": null,
            "grid_auto_rows": null,
            "grid_column": null,
            "grid_gap": null,
            "grid_row": null,
            "grid_template_areas": null,
            "grid_template_columns": null,
            "grid_template_rows": null,
            "height": null,
            "justify_content": null,
            "justify_items": null,
            "left": null,
            "margin": null,
            "max_height": null,
            "max_width": null,
            "min_height": null,
            "min_width": "50px",
            "object_fit": null,
            "object_position": null,
            "order": null,
            "overflow": null,
            "overflow_x": null,
            "overflow_y": null,
            "padding": null,
            "right": null,
            "top": null,
            "visibility": null,
            "width": null
          }
        },
        "8bb83e986b4e45e78baba470c7d409a7": {
          "model_module": "@jupyter-widgets/controls",
          "model_name": "ButtonStyleModel",
          "model_module_version": "1.5.0",
          "state": {
            "_model_module": "@jupyter-widgets/controls",
            "_model_module_version": "1.5.0",
            "_model_name": "ButtonStyleModel",
            "_view_count": null,
            "_view_module": "@jupyter-widgets/base",
            "_view_module_version": "1.2.0",
            "_view_name": "StyleView",
            "button_color": null,
            "font_weight": ""
          }
        },
        "13a9e3dce82742a3a2da28093f641089": {
          "model_module": "@jupyter-widgets/controls",
          "model_name": "ButtonModel",
          "model_module_version": "1.5.0",
          "state": {
            "_dom_classes": [],
            "_model_module": "@jupyter-widgets/controls",
            "_model_module_version": "1.5.0",
            "_model_name": "ButtonModel",
            "_view_count": null,
            "_view_module": "@jupyter-widgets/controls",
            "_view_module_version": "1.5.0",
            "_view_name": "ButtonView",
            "button_style": "success",
            "description": "✔ Done",
            "disabled": true,
            "icon": "",
            "layout": "IPY_MODEL_8d69dd8a858e4a82a0035e76045d016a",
            "style": "IPY_MODEL_9b2f1e6d80c94217ab903a729522d8d9",
            "tooltip": ""
          }
        },
        "8d69dd8a858e4a82a0035e76045d016a": {
          "model_module": "@jupyter-widgets/base",
          "model_name": "LayoutModel",
          "model_module_version": "1.2.0",
          "state": {
            "_model_module": "@jupyter-widgets/base",
            "_model_module_version": "1.2.0",
            "_model_name": "LayoutModel",
            "_view_count": null,
            "_view_module": "@jupyter-widgets/base",
            "_view_module_version": "1.2.0",
            "_view_name": "LayoutView",
            "align_content": null,
            "align_items": null,
            "align_self": null,
            "border": null,
            "bottom": null,
            "display": null,
            "flex": null,
            "flex_flow": null,
            "grid_area": null,
            "grid_auto_columns": null,
            "grid_auto_flow": null,
            "grid_auto_rows": null,
            "grid_column": null,
            "grid_gap": null,
            "grid_row": null,
            "grid_template_areas": null,
            "grid_template_columns": null,
            "grid_template_rows": null,
            "height": null,
            "justify_content": null,
            "justify_items": null,
            "left": null,
            "margin": null,
            "max_height": null,
            "max_width": null,
            "min_height": null,
            "min_width": "50px",
            "object_fit": null,
            "object_position": null,
            "order": null,
            "overflow": null,
            "overflow_x": null,
            "overflow_y": null,
            "padding": null,
            "right": null,
            "top": null,
            "visibility": null,
            "width": null
          }
        },
        "9b2f1e6d80c94217ab903a729522d8d9": {
          "model_module": "@jupyter-widgets/controls",
          "model_name": "ButtonStyleModel",
          "model_module_version": "1.5.0",
          "state": {
            "_model_module": "@jupyter-widgets/controls",
            "_model_module_version": "1.5.0",
            "_model_name": "ButtonStyleModel",
            "_view_count": null,
            "_view_module": "@jupyter-widgets/base",
            "_view_module_version": "1.2.0",
            "_view_name": "StyleView",
            "button_color": null,
            "font_weight": ""
          }
        },
        "ea4e7736ec2645b7adee38bea6f4a08d": {
          "model_module": "@jupyter-widgets/controls",
          "model_name": "ButtonModel",
          "model_module_version": "1.5.0",
          "state": {
            "_dom_classes": [],
            "_model_module": "@jupyter-widgets/controls",
            "_model_module_version": "1.5.0",
            "_model_name": "ButtonModel",
            "_view_count": null,
            "_view_module": "@jupyter-widgets/controls",
            "_view_module_version": "1.5.0",
            "_view_name": "ButtonView",
            "button_style": "success",
            "description": "✔ Done",
            "disabled": true,
            "icon": "",
            "layout": "IPY_MODEL_bca8aa5f698947d085280db568d11e29",
            "style": "IPY_MODEL_7f4f8705d4fa4175bb51c9e224478410",
            "tooltip": ""
          }
        },
        "bca8aa5f698947d085280db568d11e29": {
          "model_module": "@jupyter-widgets/base",
          "model_name": "LayoutModel",
          "model_module_version": "1.2.0",
          "state": {
            "_model_module": "@jupyter-widgets/base",
            "_model_module_version": "1.2.0",
            "_model_name": "LayoutModel",
            "_view_count": null,
            "_view_module": "@jupyter-widgets/base",
            "_view_module_version": "1.2.0",
            "_view_name": "LayoutView",
            "align_content": null,
            "align_items": null,
            "align_self": null,
            "border": null,
            "bottom": null,
            "display": null,
            "flex": null,
            "flex_flow": null,
            "grid_area": null,
            "grid_auto_columns": null,
            "grid_auto_flow": null,
            "grid_auto_rows": null,
            "grid_column": null,
            "grid_gap": null,
            "grid_row": null,
            "grid_template_areas": null,
            "grid_template_columns": null,
            "grid_template_rows": null,
            "height": null,
            "justify_content": null,
            "justify_items": null,
            "left": null,
            "margin": null,
            "max_height": null,
            "max_width": null,
            "min_height": null,
            "min_width": "50px",
            "object_fit": null,
            "object_position": null,
            "order": null,
            "overflow": null,
            "overflow_x": null,
            "overflow_y": null,
            "padding": null,
            "right": null,
            "top": null,
            "visibility": null,
            "width": null
          }
        },
        "7f4f8705d4fa4175bb51c9e224478410": {
          "model_module": "@jupyter-widgets/controls",
          "model_name": "ButtonStyleModel",
          "model_module_version": "1.5.0",
          "state": {
            "_model_module": "@jupyter-widgets/controls",
            "_model_module_version": "1.5.0",
            "_model_name": "ButtonStyleModel",
            "_view_count": null,
            "_view_module": "@jupyter-widgets/base",
            "_view_module_version": "1.2.0",
            "_view_name": "StyleView",
            "button_color": null,
            "font_weight": ""
          }
        },
        "f7a66999919f405799a3aa734af62587": {
          "model_module": "@jupyter-widgets/controls",
          "model_name": "ButtonModel",
          "model_module_version": "1.5.0",
          "state": {
            "_dom_classes": [],
            "_model_module": "@jupyter-widgets/controls",
            "_model_module_version": "1.5.0",
            "_model_name": "ButtonModel",
            "_view_count": null,
            "_view_module": "@jupyter-widgets/controls",
            "_view_module_version": "1.5.0",
            "_view_name": "ButtonView",
            "button_style": "success",
            "description": "✔ Done",
            "disabled": true,
            "icon": "",
            "layout": "IPY_MODEL_48050c5ef9004d5d8206a52547794d69",
            "style": "IPY_MODEL_88ff036ca14040c386d8fbbfa009c803",
            "tooltip": ""
          }
        },
        "48050c5ef9004d5d8206a52547794d69": {
          "model_module": "@jupyter-widgets/base",
          "model_name": "LayoutModel",
          "model_module_version": "1.2.0",
          "state": {
            "_model_module": "@jupyter-widgets/base",
            "_model_module_version": "1.2.0",
            "_model_name": "LayoutModel",
            "_view_count": null,
            "_view_module": "@jupyter-widgets/base",
            "_view_module_version": "1.2.0",
            "_view_name": "LayoutView",
            "align_content": null,
            "align_items": null,
            "align_self": null,
            "border": null,
            "bottom": null,
            "display": null,
            "flex": null,
            "flex_flow": null,
            "grid_area": null,
            "grid_auto_columns": null,
            "grid_auto_flow": null,
            "grid_auto_rows": null,
            "grid_column": null,
            "grid_gap": null,
            "grid_row": null,
            "grid_template_areas": null,
            "grid_template_columns": null,
            "grid_template_rows": null,
            "height": null,
            "justify_content": null,
            "justify_items": null,
            "left": null,
            "margin": null,
            "max_height": null,
            "max_width": null,
            "min_height": null,
            "min_width": "50px",
            "object_fit": null,
            "object_position": null,
            "order": null,
            "overflow": null,
            "overflow_x": null,
            "overflow_y": null,
            "padding": null,
            "right": null,
            "top": null,
            "visibility": null,
            "width": null
          }
        },
        "88ff036ca14040c386d8fbbfa009c803": {
          "model_module": "@jupyter-widgets/controls",
          "model_name": "ButtonStyleModel",
          "model_module_version": "1.5.0",
          "state": {
            "_model_module": "@jupyter-widgets/controls",
            "_model_module_version": "1.5.0",
            "_model_name": "ButtonStyleModel",
            "_view_count": null,
            "_view_module": "@jupyter-widgets/base",
            "_view_module_version": "1.2.0",
            "_view_name": "StyleView",
            "button_color": null,
            "font_weight": ""
          }
        },
        "3269720612324d248120841b7c7b7db1": {
          "model_module": "@jupyter-widgets/controls",
          "model_name": "ButtonModel",
          "model_module_version": "1.5.0",
          "state": {
            "_dom_classes": [],
            "_model_module": "@jupyter-widgets/controls",
            "_model_module_version": "1.5.0",
            "_model_name": "ButtonModel",
            "_view_count": null,
            "_view_module": "@jupyter-widgets/controls",
            "_view_module_version": "1.5.0",
            "_view_name": "ButtonView",
            "button_style": "success",
            "description": "Done",
            "disabled": true,
            "icon": "",
            "layout": "IPY_MODEL_12ec7e8fdc8247658ffa142c4b50eaa3",
            "style": "IPY_MODEL_d41cae9a5a0b46b6b3498c602cf57a4e",
            "tooltip": ""
          }
        },
        "12ec7e8fdc8247658ffa142c4b50eaa3": {
          "model_module": "@jupyter-widgets/base",
          "model_name": "LayoutModel",
          "model_module_version": "1.2.0",
          "state": {
            "_model_module": "@jupyter-widgets/base",
            "_model_module_version": "1.2.0",
            "_model_name": "LayoutModel",
            "_view_count": null,
            "_view_module": "@jupyter-widgets/base",
            "_view_module_version": "1.2.0",
            "_view_name": "LayoutView",
            "align_content": null,
            "align_items": null,
            "align_self": null,
            "border": null,
            "bottom": null,
            "display": null,
            "flex": null,
            "flex_flow": null,
            "grid_area": null,
            "grid_auto_columns": null,
            "grid_auto_flow": null,
            "grid_auto_rows": null,
            "grid_column": null,
            "grid_gap": null,
            "grid_row": null,
            "grid_template_areas": null,
            "grid_template_columns": null,
            "grid_template_rows": null,
            "height": null,
            "justify_content": null,
            "justify_items": null,
            "left": null,
            "margin": null,
            "max_height": null,
            "max_width": null,
            "min_height": null,
            "min_width": "50px",
            "object_fit": null,
            "object_position": null,
            "order": null,
            "overflow": null,
            "overflow_x": null,
            "overflow_y": null,
            "padding": null,
            "right": null,
            "top": null,
            "visibility": null,
            "width": null
          }
        },
        "d41cae9a5a0b46b6b3498c602cf57a4e": {
          "model_module": "@jupyter-widgets/controls",
          "model_name": "ButtonStyleModel",
          "model_module_version": "1.5.0",
          "state": {
            "_model_module": "@jupyter-widgets/controls",
            "_model_module_version": "1.5.0",
            "_model_name": "ButtonStyleModel",
            "_view_count": null,
            "_view_module": "@jupyter-widgets/base",
            "_view_module_version": "1.2.0",
            "_view_name": "StyleView",
            "button_color": null,
            "font_weight": ""
          }
        },
        "1f8e0db3b36f47b98dd559992688f99f": {
          "model_module": "@jupyter-widgets/controls",
          "model_name": "HBoxModel",
          "model_module_version": "1.5.0",
          "state": {
            "_dom_classes": [],
            "_model_module": "@jupyter-widgets/controls",
            "_model_module_version": "1.5.0",
            "_model_name": "HBoxModel",
            "_view_count": null,
            "_view_module": "@jupyter-widgets/controls",
            "_view_module_version": "1.5.0",
            "_view_name": "HBoxView",
            "box_style": "",
            "children": [
              "IPY_MODEL_cb9d7571cdc54fae9caea65ad1706dbd",
              "IPY_MODEL_8ab914b3f51040d6b7c63ad935d4cc76",
              "IPY_MODEL_9352fb0cf5264970bf56d659481c1052"
            ],
            "layout": "IPY_MODEL_a8909be92a8c4a6e9aebaa6d52c73f59"
          }
        },
        "cb9d7571cdc54fae9caea65ad1706dbd": {
          "model_module": "@jupyter-widgets/controls",
          "model_name": "HTMLModel",
          "model_module_version": "1.5.0",
          "state": {
            "_dom_classes": [],
            "_model_module": "@jupyter-widgets/controls",
            "_model_module_version": "1.5.0",
            "_model_name": "HTMLModel",
            "_view_count": null,
            "_view_module": "@jupyter-widgets/controls",
            "_view_module_version": "1.5.0",
            "_view_name": "HTMLView",
            "description": "",
            "description_tooltip": null,
            "layout": "IPY_MODEL_efc08fb2bdda44179050bb363f794bc3",
            "placeholder": "​",
            "style": "IPY_MODEL_6a270b80f9544f6e8ce2ce61b17fea61",
            "value": "Loading checkpoint shards: 100%"
          }
        },
        "8ab914b3f51040d6b7c63ad935d4cc76": {
          "model_module": "@jupyter-widgets/controls",
          "model_name": "FloatProgressModel",
          "model_module_version": "1.5.0",
          "state": {
            "_dom_classes": [],
            "_model_module": "@jupyter-widgets/controls",
            "_model_module_version": "1.5.0",
            "_model_name": "FloatProgressModel",
            "_view_count": null,
            "_view_module": "@jupyter-widgets/controls",
            "_view_module_version": "1.5.0",
            "_view_name": "ProgressView",
            "bar_style": "success",
            "description": "",
            "description_tooltip": null,
            "layout": "IPY_MODEL_8acfdad5f1e24c3a99bf9a945a869145",
            "max": 2,
            "min": 0,
            "orientation": "horizontal",
            "style": "IPY_MODEL_6fed7663e1724130ba6015c0f80605b1",
            "value": 2
          }
        },
        "9352fb0cf5264970bf56d659481c1052": {
          "model_module": "@jupyter-widgets/controls",
          "model_name": "HTMLModel",
          "model_module_version": "1.5.0",
          "state": {
            "_dom_classes": [],
            "_model_module": "@jupyter-widgets/controls",
            "_model_module_version": "1.5.0",
            "_model_name": "HTMLModel",
            "_view_count": null,
            "_view_module": "@jupyter-widgets/controls",
            "_view_module_version": "1.5.0",
            "_view_name": "HTMLView",
            "description": "",
            "description_tooltip": null,
            "layout": "IPY_MODEL_15aa6983bd164455be3f3d57bfd35bd8",
            "placeholder": "​",
            "style": "IPY_MODEL_2baba8edb7284ca6a365c0af53e0205a",
            "value": " 2/2 [00:07&lt;00:00,  3.48s/it]"
          }
        },
        "a8909be92a8c4a6e9aebaa6d52c73f59": {
          "model_module": "@jupyter-widgets/base",
          "model_name": "LayoutModel",
          "model_module_version": "1.2.0",
          "state": {
            "_model_module": "@jupyter-widgets/base",
            "_model_module_version": "1.2.0",
            "_model_name": "LayoutModel",
            "_view_count": null,
            "_view_module": "@jupyter-widgets/base",
            "_view_module_version": "1.2.0",
            "_view_name": "LayoutView",
            "align_content": null,
            "align_items": null,
            "align_self": null,
            "border": null,
            "bottom": null,
            "display": null,
            "flex": null,
            "flex_flow": null,
            "grid_area": null,
            "grid_auto_columns": null,
            "grid_auto_flow": null,
            "grid_auto_rows": null,
            "grid_column": null,
            "grid_gap": null,
            "grid_row": null,
            "grid_template_areas": null,
            "grid_template_columns": null,
            "grid_template_rows": null,
            "height": null,
            "justify_content": null,
            "justify_items": null,
            "left": null,
            "margin": null,
            "max_height": null,
            "max_width": null,
            "min_height": null,
            "min_width": null,
            "object_fit": null,
            "object_position": null,
            "order": null,
            "overflow": null,
            "overflow_x": null,
            "overflow_y": null,
            "padding": null,
            "right": null,
            "top": null,
            "visibility": null,
            "width": null
          }
        },
        "efc08fb2bdda44179050bb363f794bc3": {
          "model_module": "@jupyter-widgets/base",
          "model_name": "LayoutModel",
          "model_module_version": "1.2.0",
          "state": {
            "_model_module": "@jupyter-widgets/base",
            "_model_module_version": "1.2.0",
            "_model_name": "LayoutModel",
            "_view_count": null,
            "_view_module": "@jupyter-widgets/base",
            "_view_module_version": "1.2.0",
            "_view_name": "LayoutView",
            "align_content": null,
            "align_items": null,
            "align_self": null,
            "border": null,
            "bottom": null,
            "display": null,
            "flex": null,
            "flex_flow": null,
            "grid_area": null,
            "grid_auto_columns": null,
            "grid_auto_flow": null,
            "grid_auto_rows": null,
            "grid_column": null,
            "grid_gap": null,
            "grid_row": null,
            "grid_template_areas": null,
            "grid_template_columns": null,
            "grid_template_rows": null,
            "height": null,
            "justify_content": null,
            "justify_items": null,
            "left": null,
            "margin": null,
            "max_height": null,
            "max_width": null,
            "min_height": null,
            "min_width": null,
            "object_fit": null,
            "object_position": null,
            "order": null,
            "overflow": null,
            "overflow_x": null,
            "overflow_y": null,
            "padding": null,
            "right": null,
            "top": null,
            "visibility": null,
            "width": null
          }
        },
        "6a270b80f9544f6e8ce2ce61b17fea61": {
          "model_module": "@jupyter-widgets/controls",
          "model_name": "DescriptionStyleModel",
          "model_module_version": "1.5.0",
          "state": {
            "_model_module": "@jupyter-widgets/controls",
            "_model_module_version": "1.5.0",
            "_model_name": "DescriptionStyleModel",
            "_view_count": null,
            "_view_module": "@jupyter-widgets/base",
            "_view_module_version": "1.2.0",
            "_view_name": "StyleView",
            "description_width": ""
          }
        },
        "8acfdad5f1e24c3a99bf9a945a869145": {
          "model_module": "@jupyter-widgets/base",
          "model_name": "LayoutModel",
          "model_module_version": "1.2.0",
          "state": {
            "_model_module": "@jupyter-widgets/base",
            "_model_module_version": "1.2.0",
            "_model_name": "LayoutModel",
            "_view_count": null,
            "_view_module": "@jupyter-widgets/base",
            "_view_module_version": "1.2.0",
            "_view_name": "LayoutView",
            "align_content": null,
            "align_items": null,
            "align_self": null,
            "border": null,
            "bottom": null,
            "display": null,
            "flex": null,
            "flex_flow": null,
            "grid_area": null,
            "grid_auto_columns": null,
            "grid_auto_flow": null,
            "grid_auto_rows": null,
            "grid_column": null,
            "grid_gap": null,
            "grid_row": null,
            "grid_template_areas": null,
            "grid_template_columns": null,
            "grid_template_rows": null,
            "height": null,
            "justify_content": null,
            "justify_items": null,
            "left": null,
            "margin": null,
            "max_height": null,
            "max_width": null,
            "min_height": null,
            "min_width": null,
            "object_fit": null,
            "object_position": null,
            "order": null,
            "overflow": null,
            "overflow_x": null,
            "overflow_y": null,
            "padding": null,
            "right": null,
            "top": null,
            "visibility": null,
            "width": null
          }
        },
        "6fed7663e1724130ba6015c0f80605b1": {
          "model_module": "@jupyter-widgets/controls",
          "model_name": "ProgressStyleModel",
          "model_module_version": "1.5.0",
          "state": {
            "_model_module": "@jupyter-widgets/controls",
            "_model_module_version": "1.5.0",
            "_model_name": "ProgressStyleModel",
            "_view_count": null,
            "_view_module": "@jupyter-widgets/base",
            "_view_module_version": "1.2.0",
            "_view_name": "StyleView",
            "bar_color": null,
            "description_width": ""
          }
        },
        "15aa6983bd164455be3f3d57bfd35bd8": {
          "model_module": "@jupyter-widgets/base",
          "model_name": "LayoutModel",
          "model_module_version": "1.2.0",
          "state": {
            "_model_module": "@jupyter-widgets/base",
            "_model_module_version": "1.2.0",
            "_model_name": "LayoutModel",
            "_view_count": null,
            "_view_module": "@jupyter-widgets/base",
            "_view_module_version": "1.2.0",
            "_view_name": "LayoutView",
            "align_content": null,
            "align_items": null,
            "align_self": null,
            "border": null,
            "bottom": null,
            "display": null,
            "flex": null,
            "flex_flow": null,
            "grid_area": null,
            "grid_auto_columns": null,
            "grid_auto_flow": null,
            "grid_auto_rows": null,
            "grid_column": null,
            "grid_gap": null,
            "grid_row": null,
            "grid_template_areas": null,
            "grid_template_columns": null,
            "grid_template_rows": null,
            "height": null,
            "justify_content": null,
            "justify_items": null,
            "left": null,
            "margin": null,
            "max_height": null,
            "max_width": null,
            "min_height": null,
            "min_width": null,
            "object_fit": null,
            "object_position": null,
            "order": null,
            "overflow": null,
            "overflow_x": null,
            "overflow_y": null,
            "padding": null,
            "right": null,
            "top": null,
            "visibility": null,
            "width": null
          }
        },
        "2baba8edb7284ca6a365c0af53e0205a": {
          "model_module": "@jupyter-widgets/controls",
          "model_name": "DescriptionStyleModel",
          "model_module_version": "1.5.0",
          "state": {
            "_model_module": "@jupyter-widgets/controls",
            "_model_module_version": "1.5.0",
            "_model_name": "DescriptionStyleModel",
            "_view_count": null,
            "_view_module": "@jupyter-widgets/base",
            "_view_module_version": "1.2.0",
            "_view_name": "StyleView",
            "description_width": ""
          }
        },
        "d10fea05adfb4871a0b7f72215a69f69": {
          "model_module": "@jupyter-widgets/controls",
          "model_name": "ButtonModel",
          "model_module_version": "1.5.0",
          "state": {
            "_dom_classes": [],
            "_model_module": "@jupyter-widgets/controls",
            "_model_module_version": "1.5.0",
            "_model_name": "ButtonModel",
            "_view_count": null,
            "_view_module": "@jupyter-widgets/controls",
            "_view_module_version": "1.5.0",
            "_view_name": "ButtonView",
            "button_style": "success",
            "description": "Done",
            "disabled": true,
            "icon": "",
            "layout": "IPY_MODEL_f0792c2ad92a452eb6cf9847563076a1",
            "style": "IPY_MODEL_7448b0c6607f471e9733b0728284dd2f",
            "tooltip": ""
          }
        },
        "f0792c2ad92a452eb6cf9847563076a1": {
          "model_module": "@jupyter-widgets/base",
          "model_name": "LayoutModel",
          "model_module_version": "1.2.0",
          "state": {
            "_model_module": "@jupyter-widgets/base",
            "_model_module_version": "1.2.0",
            "_model_name": "LayoutModel",
            "_view_count": null,
            "_view_module": "@jupyter-widgets/base",
            "_view_module_version": "1.2.0",
            "_view_name": "LayoutView",
            "align_content": null,
            "align_items": null,
            "align_self": null,
            "border": null,
            "bottom": null,
            "display": null,
            "flex": null,
            "flex_flow": null,
            "grid_area": null,
            "grid_auto_columns": null,
            "grid_auto_flow": null,
            "grid_auto_rows": null,
            "grid_column": null,
            "grid_gap": null,
            "grid_row": null,
            "grid_template_areas": null,
            "grid_template_columns": null,
            "grid_template_rows": null,
            "height": null,
            "justify_content": null,
            "justify_items": null,
            "left": null,
            "margin": null,
            "max_height": null,
            "max_width": null,
            "min_height": null,
            "min_width": "50px",
            "object_fit": null,
            "object_position": null,
            "order": null,
            "overflow": null,
            "overflow_x": null,
            "overflow_y": null,
            "padding": null,
            "right": null,
            "top": null,
            "visibility": null,
            "width": null
          }
        },
        "7448b0c6607f471e9733b0728284dd2f": {
          "model_module": "@jupyter-widgets/controls",
          "model_name": "ButtonStyleModel",
          "model_module_version": "1.5.0",
          "state": {
            "_model_module": "@jupyter-widgets/controls",
            "_model_module_version": "1.5.0",
            "_model_name": "ButtonStyleModel",
            "_view_count": null,
            "_view_module": "@jupyter-widgets/base",
            "_view_module_version": "1.2.0",
            "_view_name": "StyleView",
            "button_color": null,
            "font_weight": ""
          }
        }
      }
    }
  },
  "nbformat": 4,
  "nbformat_minor": 0
}